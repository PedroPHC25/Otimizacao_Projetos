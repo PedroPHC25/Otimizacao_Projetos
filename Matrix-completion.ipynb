{
 "cells": [
  {
   "cell_type": "markdown",
   "metadata": {},
   "source": [
    "<div hidden>\n",
    "\n",
    "% Some handy commands\n",
    "$\n",
    "\\newcommand{\\cupdot}{\\mathbin{\\mathaccent\\cdot\\cup}}\n",
    "\\newcommand{\\esp}{\\mathbb{E}}\n",
    "\\newcommand{\\prob}{\\mathbb{P}}\n",
    "\\newcommand{\\probn}{\\mathbf{P}}\n",
    "\\newcommand{\\espn}{\\mathbf{E}}\n",
    "\\newcommand{\\Var}{\\mathbb{V}}\t\n",
    "\\newcommand{\\Cov}{\\mathbb{Cov}}\n",
    "\\DeclareMathOperator*{\\diag}{Diag}\n",
    "\\DeclareMathOperator*{\\sign}{sign}\n",
    "\\newcommand{\\alg}{\\mathcal{F}}\n",
    "\\newcommand{\\alge}{\\mathcal{G}}\n",
    "\\newcommand{\\unit}{\\mathbf{1}}\n",
    "\\newcommand{\\id}{\\mathbf{I}}\t\n",
    "\\newcommand{\\re}{\\mathbb{R}}\n",
    "\\newcommand{\\pc}{\\mathfrak{p}}\n",
    "\\newcommand{\\qc}{\\mathfrak{q}}\n",
    "\\newcommand{\\tr}{tr}\n",
    "\\newcommand{\\median}{\\mathsf{median}}\n",
    "\\newcommand{\\KL}{KL}\n",
    "\\DeclareMathOperator*{\\op}{op}\n",
    "\\DeclareMathOperator*{\\dom}{dom}\n",
    "\\DeclareMathOperator*{\\diag}{diag}\n",
    "\\DeclareMathOperator*{\\rank}{rank}\n",
    "\\DeclareMathOperator*{\\vetor}{vec}\n",
    "\\DeclareMathOperator*{\\range}{\\mathcal{R}}\n",
    "\\newcommand{\\set}[1]{\\left\\{#1\\right\\}}\n",
    "\\DeclareMathOperator*{\\diam}{diam}\n",
    "\\newcommand{\\Med}{\\mathsf{Med}}\n",
    "\\DeclareMathOperator*{\\argmin}{argmin}\n",
    "\\DeclareMathOperator*{\\argmax}{argmax}\n",
    "\\DeclareMathOperator*{\\maxx}{max}\n",
    "$   \n",
    "    \n",
    "% Boldface letters\n",
    "$\n",
    "\\def\\bfDelta{\\boldsymbol{\\Delta}}\n",
    "\\def\\bfOmega{\\bold{\\Omega}}\n",
    "\\def\\bfGamma{\\bold{\\Gamma}}\n",
    "\\def\\bfSigma{\\bold{\\Sigma}}\n",
    "\\def\\bfTheta{\\bold{\\Theta}}\n",
    "\\def\\bfPsi{\\bold{\\Psi}}\n",
    "\\def\\bfXi{\\bold{\\Xi}}\n",
    "\\def\\bfA{\\mathbf{A}}\n",
    "\\def\\bfB{\\mathbf{B}}\n",
    "\\def\\bfC{\\mathbf{C}}\n",
    "\\def\\bfD{\\mathbf{D}}\n",
    "\\def\\bfE{\\mathbf{E}}\n",
    "\\def\\bfF{\\mathbf{F}}\n",
    "\\def\\bfH{\\mathbf{H}}\n",
    "\\def\\bfI{\\mathbf{I}}\n",
    "\\def\\bfM{\\mathbf{M}}\n",
    "\\def\\bfL{\\mathbf{L}}\n",
    "\\def\\bfP{\\mathbf{P}}\n",
    "\\def\\bfQ{\\mathbf{Q}}\n",
    "\\def\\bfR{\\mathbf{R}}\n",
    "\\def\\bfU{\\mathbf{U}}\n",
    "\\def\\bfV{\\mathbf{V}}\n",
    "\\def\\bfW{\\mathbf{W}}\n",
    "\\def\\bfX{\\mathbf{X}}\n",
    "\\def\\bfY{\\mathbf{Y}}\n",
    "\\def\\bfZ{\\mathbf{Z}}\n",
    "\\def\\ba{\\boldsymbol a}\n",
    "\\def\\bb{\\boldsymbol b}\n",
    "\\def\\bc{\\boldsymbol c}\n",
    "\\def\\be{\\boldsymbol e}\n",
    "\\def\\bff{\\boldsymbol f}\n",
    "\\def\\bg{\\boldsymbol g}\n",
    "\\def\\bh{\\boldsymbol h}\n",
    "\\def\\bx{\\boldsymbol x}\n",
    "\\def\\by{\\boldsymbol y}\n",
    "\\def\\bu{\\boldsymbol u}\n",
    "\\def\\bv{\\boldsymbol v}\n",
    "\\def\\bw{\\boldsymbol w}\n",
    "\\def\\bz{\\boldsymbol z}\n",
    "\\def\\bfzero{\\mathbf{0}}\n",
    "\\def\\bbeta{\\boldsymbol\\beta}\n",
    "\\def\\bepsilon{\\boldsymbol\\epsilon}\n",
    "\\def\\bgamma{\\boldsymbol\\gamma}\n",
    "\\def\\bmu{\\boldsymbol\\mu}\n",
    "\\def\\bomega{\\boldsymbol\\omega}\n",
    "\\def\\brho{\\boldsymbol\\rho}\n",
    "\\def\\bsigma{\\boldsymbol\\sigma}\n",
    "\\def\\btheta{\\boldsymbol\\theta}\n",
    "\\def\\bxi{\\boldsymbol{\\xi}}\n",
    "\\def\\bvarpi{\\boldsymbol\\varpi}\n",
    "$\n",
    "\n",
    "%script letters\n",
    "$    \n",
    "\\def\\calA{\\mathcal A}\n",
    "\\def\\calB{\\mathcal B}\n",
    "\\def\\calC{\\mathcal C}\n",
    "\\def\\calD{\\mathcal D}\n",
    "\\def\\calE{\\mathcal E}\n",
    "\\def\\calF{\\mathcal F}\n",
    "\\def\\calG{\\mathcal G}\n",
    "\\def\\calI{\\mathcal I}\n",
    "\\def\\calK{\\mathcal K}\n",
    "\\def\\calJ{\\mathcal J}\n",
    "\\def\\calL{\\mathcal L}\n",
    "\\def\\calM{\\mathcal M}\n",
    "\\def\\calN{\\mathcal N}\n",
    "\\def\\calO{\\mathcal O}\n",
    "\\def\\calP{\\mathcal P}\n",
    "\\def\\calR{\\mathcal R}\n",
    "\\def\\calS{\\mathcal S}\n",
    "\\def\\calQ{\\mathcal Q}\n",
    "\\def\\calU{\\mathcal U}\n",
    "\\def\\calV{\\mathcal V}\n",
    "\\def\\calX{\\mathcal X}\n",
    "\\def\\calZ{\\mathcal Z}\n",
    "$\n",
    "\n",
    "%mathfrak letters\n",
    "$    \n",
    "\\def\\frA{\\mathfrak{A}}\n",
    "\\def\\frC{\\mathfrak{C}}\n",
    "\\def\\frD{\\mathfrak{D}}\n",
    "\\def\\frH{\\mathfrak{H}}\n",
    "\\def\\frM{\\mathfrak{M}}\n",
    "\\def\\frS{\\mathfrak{S}}\n",
    "\\def\\frU{\\mathfrak{U}}\n",
    "\\def\\frX{\\mathfrak{X}}\n",
    "\\def\\frZ{\\mathfrak{Z}}\n",
    "\\def\\frm{\\mathfrak{m}}\n",
    "$\n",
    "\n",
    "%mathbb letters\n",
    "$    \n",
    "\\def\\mbA{\\mathbb{A}}\n",
    "\\def\\mbB{\\mathbb{B}}\n",
    "\\def\\mbC{\\mathbb{C}}\n",
    "\\def\\mbS{\\mathbb{S}}\n",
    "\\def\\mbN{\\mathbb{N}}\n",
    "\\def\\mbX{\\mathbb{X}}\n",
    "$\n",
    "\n",
    "%mathscr letters\n",
    "$    \n",
    "\\def\\mcC{\\mathscr{C}}\n",
    "\\def\\mcF{\\mathscr{F}}\n",
    "\\def\\mcL{\\mathscr{L}}\n",
    "\\def\\mcN{\\mathscr{N}}\n",
    "\\def\\mcP{\\mathscr{P}}\n",
    "\\def\\mcR{\\mathscr{R}}\n",
    "\\def\\mcX{\\mathscr{X}}\n",
    "$\n",
    "\n",
    "%\\mathds letters\n",
    "$    \n",
    "\\def\\mdC{\\mathds{C}}\n",
    "\\def\\mdF{\\mathds{F}}\n",
    "\\def\\mdR{\\mathds{R}}\n",
    "$\n",
    "        \n",
    "</div>"
   ]
  },
  {
   "cell_type": "markdown",
   "metadata": {},
   "source": [
    "# Completação de matrizes (*Matrix Completion*)\n",
    "\n",
    "O objetivo deste projeto é implementar alguns métodos iterativos de otimização para o *completamento de matrizes*. Por exemplo, o problema de estimar as notas/avaliações faltantes de itens de consumo dadas por usuários (sabendo-se uma amostra pequena). O Netflix se utiliza de algoritmos deste tipo para sugerir filmes ao usuário. De fato, existe toda uma área chamada *Sistemas de Recomendação (Recommendation Systems)* que trata de problemas do tipo. \n",
    "\n",
    "<div>\n",
    "<img src=\"recommendation-system.png\" width=\"500\"/>\n",
    "</div>\n",
    "\n",
    "Para facilitar, iremos à seguir apresentar algumas definições. Denotaremos por $\\bfX^*$ a matriz $n_1\\times n_2$ não observada. As entradas observadas da matriz $\\bfX^*$ correspondem aos índices:\n",
    "$$\n",
    "\\Omega := \\{(i,j):\\text{ usuário } i \\text{ avalia item } j\\}.\n",
    "$$  \n",
    "\n",
    "Definiremos o *operador de amostragem* $\\calP_\\Omega:\\re^{n_1\\times n_2}\\rightarrow\\re^{n_1\\times n_2}$ que leva \n",
    "uma matriz $\\bfA\\in\\re^{n_1\\times n_2}$, à matriz \n",
    "$$\n",
    "\\left(\\calP_{\\Omega}[\\bfA]\\right)_{i,j}=\n",
    "\\begin{cases}\n",
    "\\bfA_{i,j},& \\text{ if } (i,j)\\in\\Omega,\\\\\n",
    "0,& \\text{ if } (i,j)\\notin\\Omega.\n",
    "\\end{cases}\n",
    "$$\n",
    "A operação complementar é\n",
    "$$\n",
    "\\left(\\calP_{\\Omega}^\\perp[\\bfA]\\right)_{i,j}=\n",
    "\\begin{cases}\n",
    "0,& \\text{ if } (i,j)\\in\\Omega,\\\\\n",
    "\\bfA_{i,j},& \\text{ if } (i,j)\\notin\\Omega.\n",
    "\\end{cases}\n",
    "$$\n",
    "A matriz observada pode ser escrita como\n",
    "$$\n",
    "\\bfY := \\calP_{\\Omega}[\\bfX^*].\n",
    "$$\n",
    "Portanto, as entradas não observadas correspondem à zero na matriz $\\bfY$."
   ]
  },
  {
   "cell_type": "markdown",
   "metadata": {
    "jp-MarkdownHeadingCollapsed": true
   },
   "source": [
    "# Soft-Thresholding\n",
    "\n",
    "Dado números $\\alpha>0$ and $\\gamma\\in\\re$, \n",
    "$$\n",
    "\\calS_\\alpha(\\gamma):=\\sign(\\gamma)\\cdot\\max\\{\\gamma-\\alpha,0\\}.\n",
    "$$\n",
    "é chamado *soft-thresholding* de $\\gamma$ com threshold $\\alpha$. Àcima, $\\sign(\\gamma)$ é o sinal de $\\gamma$.\n",
    "\n",
    "Seja uma matriz $\\bfW$ com decomposição de valores singulares (SVD):\n",
    "$$\n",
    "\\bfW = \\bfU\\cdot\\bfD(\\gamma_1,\\ldots,\\gamma_r)\\cdot\\bfV^\\top.\n",
    "$$\n",
    "Então, para $\\alpha>0$, definimos a matriz *soft-thresholding* de $\\bfW$ com threshold $\\alpha$ por\n",
    "$$\n",
    "\\calS_\\alpha(\\bfW) := \\bfU\\cdot\\bfD\\left(\\calS_\\alpha(\\gamma_1),\\ldots,\\calS_\\alpha(\\gamma_r)\\right)\\cdot\\bfV^\\top.\n",
    "$$"
   ]
  },
  {
   "cell_type": "markdown",
   "metadata": {},
   "source": [
    "# Norma de Frobenius e norma nuclear\n",
    "\n",
    "Dada matrix $\\bfX$, sua *norma de Frobenius* é dada por\n",
    "$$\n",
    "\\Vert\\bfX\\Vert_F:=\\sqrt{\\sum_{i=1}^{n_1}\\sum_{j=1}^{n_2}\\bfX_{ij}^2}.\n",
    "$$\n",
    "A *norma nuclear* de $\\bfX$ é dada por \n",
    "$$\n",
    "\\Vert\\bfX\\Vert_N:=\\sum_{i=1}^r\\sigma_i(\\bfX),\n",
    "$$\n",
    "onde $r$ é o posto de $\\bfX$ e $\\sigma_1(\\bfX)>\\cdots>\\sigma_r(\\bfX)$ são os valores singulares de $\\bfX$. "
   ]
  },
  {
   "cell_type": "markdown",
   "metadata": {},
   "source": [
    "# Exercício 1: Gerando dados\n",
    "\n",
    "Primeiro, construa a função ```data_genX(n,r,B_mag,m)``` que retorna 3 matrizes $n\\times n$: (1) a matriz de dados $\\bfX^*$ de posto $r$ e autovalores todos iguais a $B_{mag}$, (2) a matriz $\\Omega$ contendo 1 se a entrada correspondente é observada e 0 caso contrário e (3) a matriz $\\Omega^\\perp$ contendo 0 se a entrada correspondente é observada e 1 caso contrário. Ao gerar $\\bfX^*$, use a função ```scipy.stats.ortho_group``` para construir duas matrizes $\\bfU$ e $\\bfV$ aleatórias ortogonais de dimensões $n\\times r$; retorne \n",
    "$\\bfX^*=\\bfU\\cdot D(B_{mag},\\ldots,B_{mag})\\cdot\\bfV^\\top$. Ao construir $\\Omega$, dado $m=1,\\ldots,n^2$, selecione aleatoriamente as $m$ entradas de $\\bfX^*$ observadas."
   ]
  },
  {
   "cell_type": "code",
   "execution_count": 324,
   "metadata": {},
   "outputs": [],
   "source": [
    "#Escreva código aqui\n",
    "import matplotlib\n",
    "import numpy as np\n",
    "import scipy\n",
    "from scipy.stats import ortho_group\n",
    "import seaborn as sns\n",
    "import matplotlib.pyplot as plt\n",
    "import numpy.linalg as la"
   ]
  },
  {
   "cell_type": "code",
   "execution_count": 325,
   "metadata": {},
   "outputs": [],
   "source": [
    "def data_genX(n, r, B_mag, m):\n",
    "    # Gerando as matrizes D, U e V\n",
    "    D = np.diag(np.full(r, B_mag))\n",
    "    U = ortho_group.rvs(dim = n)[:, :r]\n",
    "    V = ortho_group.rvs(dim = n)[:, :r]\n",
    "    # Calculando X\n",
    "    X = U @ D @ V.T\n",
    "\n",
    "    # Inicializando omega e omega_perp\n",
    "    omega = np.zeros((n, n))\n",
    "    omega_perp = np.ones((n, n))\n",
    "    # Sorteando as entradas observadas\n",
    "    observed = np.random.choice(range(n**2), m, replace = False)\n",
    "\n",
    "    # Salvando cada entrada observada nas matrizes\n",
    "    for entry in observed:\n",
    "        omega[entry//n, entry % n] = 1\n",
    "        omega_perp[entry//n, entry % n] = 0\n",
    "    \n",
    "    return X, omega, omega_perp"
   ]
  },
  {
   "cell_type": "code",
   "execution_count": 326,
   "metadata": {},
   "outputs": [
    {
     "data": {
      "text/plain": [
       "(array([[ 0.01978278,  0.03992193,  0.06233024],\n",
       "        [ 0.15046801,  0.30364653,  0.47408432],\n",
       "        [-0.2088946 , -0.4215522 , -0.65817083]]),\n",
       " array([[0., 1., 0.],\n",
       "        [0., 0., 1.],\n",
       "        [0., 0., 0.]]),\n",
       " array([[1., 0., 1.],\n",
       "        [1., 1., 0.],\n",
       "        [1., 1., 1.]]))"
      ]
     },
     "execution_count": 326,
     "metadata": {},
     "output_type": "execute_result"
    }
   ],
   "source": [
    "#Exemplo:\n",
    "n=3\n",
    "r=1\n",
    "B_mag=1\n",
    "m=2\n",
    "data = data_genX(n,r,B_mag,m)\n",
    "data"
   ]
  },
  {
   "cell_type": "markdown",
   "metadata": {},
   "source": [
    "# Exercício 2: Funções auxiliares\n",
    "\n",
    "1. Construe uma função ```P_omega(X.Omega)``` cujas entradas são uma matriz $n\\times n$ $\\bfX$ e $\\Omega$ e retorna a matriz $\\calP_\\Omega(\\bfX)$. \n",
    "2. Construe uma função ```soft(x,l)``` que toma dois números $x$ e $l$ retorna $\\calS_{l}(x)$.\n",
    "3. Construe uma função ```Frob_sq(A)``` que retorna o quadrado da norma de Frobenius da matriz $A$, isto é, \n",
    "$\n",
    "\\Vert\\bfA\\Vert_F^2 := \\sum_{i,j}A_{ij}^2. \n",
    "$"
   ]
  },
  {
   "cell_type": "code",
   "execution_count": 327,
   "metadata": {},
   "outputs": [],
   "source": [
    "#Escreva código aqui\n",
    "def P_omega(X, Omega):\n",
    "    return X * Omega"
   ]
  },
  {
   "cell_type": "code",
   "execution_count": 328,
   "metadata": {},
   "outputs": [
    {
     "data": {
      "text/plain": [
       "array([[ 0.        ,  0.03992193,  0.        ],\n",
       "       [ 0.        ,  0.        ,  0.47408432],\n",
       "       [-0.        , -0.        , -0.        ]])"
      ]
     },
     "execution_count": 328,
     "metadata": {},
     "output_type": "execute_result"
    }
   ],
   "source": [
    "#Exemplo:\n",
    "P_omega(data[0],data[1])"
   ]
  },
  {
   "cell_type": "code",
   "execution_count": 329,
   "metadata": {},
   "outputs": [],
   "source": [
    "#Escreva código aqui\n",
    "def soft(x, l):\n",
    "    return np.sign(x) * np.maximum(x - l, 0)"
   ]
  },
  {
   "cell_type": "code",
   "execution_count": 330,
   "metadata": {},
   "outputs": [
    {
     "data": {
      "text/plain": [
       "7.9"
      ]
     },
     "execution_count": 330,
     "metadata": {},
     "output_type": "execute_result"
    }
   ],
   "source": [
    "#Exemplo:\n",
    "soft(10,2.1)"
   ]
  },
  {
   "cell_type": "code",
   "execution_count": 331,
   "metadata": {},
   "outputs": [],
   "source": [
    "#Escreva código aqui\n",
    "def Frob_sq(A):\n",
    "    return np.sum(A**2)"
   ]
  },
  {
   "cell_type": "code",
   "execution_count": 332,
   "metadata": {},
   "outputs": [
    {
     "data": {
      "text/plain": [
       "1.0000000000000002"
      ]
     },
     "execution_count": 332,
     "metadata": {},
     "output_type": "execute_result"
    }
   ],
   "source": [
    "#Exemplo:\n",
    "Frob_sq(data[0])"
   ]
  },
  {
   "cell_type": "markdown",
   "metadata": {},
   "source": [
    "# Exercício 3: Regularized Matrix Completion (RMC)\n",
    "\n",
    "Iremos resolver estimar $\\bfX^*$ usando um método iterativo que resolve o seguinte problema de otimização:\n",
    "\\begin{align}\n",
    "\\begin{array}{cc}\n",
    "\\min_{\\bfX}&\\frac{1}{2}\\Vert\\bfX\\Vert_F^2+\\lambda\\Vert\\bfX\\Vert_N\\\\\n",
    "\\text{s.t.}&\\calP_{\\Omega}[\\bfX] = \\bfY.\n",
    "\\end{array}\n",
    "\\end{align}\n",
    "\n",
    "Escolhendo $\\lambda,L>0$ e ponto inicial $\\bfW^0$, o seguinte método resolve o problema àcima:\n",
    "\\begin{align}\n",
    "\\bfX^{k}&:= \\calS_{\\lambda}\\left(\\bfW^{k}\\right),\\\\\n",
    "\\bfW^{k+1}&:=\\bfW^{k} - \\frac{n}{L}\\left[\\calP_{\\Omega}(\\bfX^k)-\\bfY\\right]\n",
    "\\end{align}\n",
    "\n",
    "Referência: (https://arxiv.org/abs/0810.3286)\n",
    "\n",
    "Para tanto, construa uma função ```SVT(l,L,X,Y,Omega,it)``` que toma números positivos $\\lambda=l$ e $L$, as matrizes $\\bfX^*$, $\\bfY$, e $\\Omega$ e um número de iterações escolhido e retorna os últimos iterados $(\\bfX^{it},\\bfW^{it})$ e a sequência de erros $\\Vert \\bfX^k-\\bfX^*\\Vert^2$."
   ]
  },
  {
   "cell_type": "code",
   "execution_count": 333,
   "metadata": {},
   "outputs": [],
   "source": [
    "#Escreva código aqui\n",
    "def SVT(l, L, X, Y, Omega, it):\n",
    "    # Inicializando a lista de erros\n",
    "    error_history = []\n",
    "    # Tamanho das matrizes\n",
    "    n = X.shape[0]\n",
    "    # Inicializando W0 como a matriz nula\n",
    "    Wk = np.zeros((n, n))\n",
    "\n",
    "    # Em cada iteração...\n",
    "    for _ in range(it):\n",
    "        # Calcula a decomposição SVD de Wk\n",
    "        U, S, Vt = np.linalg.svd(Wk)\n",
    "        # Atualiza o Xk com base no soft-thresholding\n",
    "        Xk = U @ np.diag(soft(S, l)) @ Vt\n",
    "\n",
    "        # Atualiza o Wk\n",
    "        Wk -= n/L * (P_omega(Xk, Omega) - Y)\n",
    "\n",
    "        # Calcula o erro atual e salva na lista\n",
    "        current_error = Frob_sq(Xk - X)\n",
    "        error_history.append(current_error)\n",
    "\n",
    "    return Xk, Wk, error_history"
   ]
  },
  {
   "cell_type": "code",
   "execution_count": 334,
   "metadata": {},
   "outputs": [
    {
     "data": {
      "image/png": "[encoded data removed]",
      "text/plain": [
       "<Figure size 640x480 with 1 Axes>"
      ]
     },
     "metadata": {},
     "output_type": "display_data"
    }
   ],
   "source": [
    "#Exemplo:\n",
    "X = data[0]\n",
    "Omega = data[1]\n",
    "Y = P_omega(X,Omega)\n",
    "n = X.shape[0]\n",
    "l = n/5\n",
    "L = 5\n",
    "it = 100\n",
    "\n",
    "f1 = SVT(l,L,X,Y,Omega,it)\n",
    "error_SVT = f1[2]\n",
    "\n",
    "import matplotlib.pyplot as plt\n",
    "plt.plot(error_SVT)\n",
    "plt.show()"
   ]
  },
  {
   "cell_type": "markdown",
   "metadata": {},
   "source": [
    "# Exercício 4: Stable Matrix Completion (SMC)\n",
    "\n",
    "Em seguida, iremos resolver estimar $\\bfX^*$ usando um método iterativo que resolve o seguinte problema de otimização:\n",
    "\\begin{align}\n",
    "\\begin{array}{cc}\n",
    "\\min_{\\bfX}& \\frac{1}{2}\\Vert\\bfY-\\calP_{\\Omega}[\\bfX]\\Vert_F^2+\\lambda\\Vert\\bfX\\Vert_N.\n",
    "\\end{array}\n",
    "\\end{align}\n",
    "\n",
    "Escolhendo $\\lambda,L>0$ e ponto inicial $\\bfW^0$, o seguinte método resolve o problema àcima:\n",
    "\\begin{align*}\n",
    "\\bfX^{k}&:= \\calS_{\\frac{\\lambda}{L}}\\left(\\bfW^{k}\\right),\\\\\n",
    "\\bfW^{k+1}&:=\\bfX^{k}-\\frac{1}{L}\\left[\\calP_{\\Omega}(\\bfX^k)-\\bfY\\right].\n",
    "\\end{align*}\n",
    "\n",
    "Referência: (https://optimization-online.org/2009/03/2268/)\n",
    "\n",
    "Para tanto, construa uma função ```PG(l,L,X,Y,Omega,it)``` que toma números positivos $\\lambda=l$ e $L$, as matrizes $\\bfX^*$, $\\bfY$, e $\\Omega$ e um número de iterações escolhido e retorna os últimos iterados $(\\bfX^{it},\\bfW^{it})$ e a sequência de erros $\\Vert \\bfX^k-\\bfX^*\\Vert^2$."
   ]
  },
  {
   "cell_type": "code",
   "execution_count": 335,
   "metadata": {},
   "outputs": [],
   "source": [
    "#Escreva código aqui\n",
    "def PG(l, L, X, Y, Omega, it):\n",
    "    # Inicializando a lista de erros\n",
    "    error_history = []\n",
    "    # Tamanho das matrizes\n",
    "    n = X.shape[0]\n",
    "    # Inicializando W0 como a matriz nula\n",
    "    Wk = np.zeros((n, n))\n",
    "\n",
    "    # Em cada iteração...\n",
    "    for _ in range(it):\n",
    "        # Calcula a decomposição SVD de Wk\n",
    "        U, S, Vt = np.linalg.svd(Wk)\n",
    "        # Atualiza o Xk com base no soft-thresholding\n",
    "        Xk = U @ np.diag(soft(S, l/L)) @ Vt\n",
    "\n",
    "        # Atualiza o Wk\n",
    "        Wk = Xk - (1/L) * (P_omega(Xk, Omega) - Y)\n",
    "\n",
    "        # Calcula o erro atual e salva na lista\n",
    "        current_error = Frob_sq(Xk - X)\n",
    "        error_history.append(current_error)\n",
    "\n",
    "    return Xk, Wk, error_history"
   ]
  },
  {
   "cell_type": "code",
   "execution_count": 336,
   "metadata": {},
   "outputs": [
    {
     "data": {
      "image/png": "[encoded data removed]",
      "text/plain": [
       "<Figure size 640x480 with 1 Axes>"
      ]
     },
     "metadata": {},
     "output_type": "display_data"
    }
   ],
   "source": [
    "#Exemplo:\n",
    "X = data[0]\n",
    "Omega = data[1]\n",
    "Y = P_omega(X,Omega)\n",
    "n = X.shape[0]\n",
    "l = n/100\n",
    "L = 5\n",
    "it = 100\n",
    "\n",
    "f2 = PG(l,L,X,Y,Omega,it)\n",
    "error_PG = f2[2]\n",
    "\n",
    "import matplotlib.pyplot as plt\n",
    "plt.plot(error_PG)\n",
    "plt.show()"
   ]
  },
  {
   "cell_type": "markdown",
   "metadata": {},
   "source": [
    "# Exercício 5: Accelerated SMC\n",
    "\n",
    "Em seguida, iremos resolver estimar $\\bfX^*$ usando um método iterativo *com aceleração de Nesterov* que resolve SMC. Escolhendo $\\lambda,L>0$, inicializações $\\bfX^0=\\bfX^1$ e $t_0=t_1=1$, o seguinte método resolve o problema àcima:\n",
    "\n",
    "\\begin{align*}\n",
    "\\bfZ^k &:= \\bfX^k + \\frac{t_{k-1}-1}{t_k}(\\bfX^k-\\bfX^{k-1}),\\label{algo:APG1}\\\\\n",
    "\\bfW^k &:= \\bfZ^{k}-\\frac{1}{L}\\left[\\calP_{\\Omega}(\\bfZ^k)-\\bfY\\right],\\\\\n",
    "\\bfX^{k+1}&:= \\calS_{\\frac{\\lambda}{L}}\\left(\\bfW^k\\right),\\\\\n",
    "t_{k+1} &:= \\frac{1+\\sqrt{1+4t_k^2}}{2}.\n",
    "\\end{align*}\n",
    "\n",
    "Referência: (https://optimization-online.org/2009/03/2268/)\n",
    "\n",
    "Construa uma função ```APG(l,L,X,Y,Omega,it)``` que toma números positivos $\\lambda=l$ e $L$, as matrizes $\\bfX^*$, $\\bfY$, e $\\Omega$ e um número de iterações escolhido e retorna os últimos iterados $(\\bfX^{it},\\bfW^{it})$ e a sequência de erros $\\Vert \\bfX^k-\\bfX^*\\Vert^2$."
   ]
  },
  {
   "cell_type": "code",
   "execution_count": 337,
   "metadata": {},
   "outputs": [],
   "source": [
    "#Escreva código aqui\n",
    "def APG(l, L, X, Y, Omega, it):\n",
    "    # Inicializando a lista dos erros\n",
    "    error_history = []\n",
    "    # Dimensão das matrizes\n",
    "    n = X.shape[0]\n",
    "\n",
    "    # Inicializando as variáveis\n",
    "    X0 = np.zeros((n, n))\n",
    "    X1 = X0\n",
    "    t0 = 1\n",
    "    t1 = t0\n",
    "    \n",
    "    # Em cada iteração...\n",
    "    for _ in range(it):\n",
    "        # Atualiza o Z\n",
    "        Z = X1 + ((t0 - 1)/t1)*(X1 - X0)\n",
    "        # Atualiza o W\n",
    "        W = Z - (1/L)*(P_omega(Z, Omega) - Y)\n",
    "        # Avança o X0\n",
    "        X0 = X1\n",
    "        # Calcula a decomposição SVD de W\n",
    "        U, S, Vt = np.linalg.svd(W)\n",
    "        # Atualiza o X1 com base no soft-thresholding\n",
    "        X1 = U @ np.diag(soft(S, l/L)) @ Vt\n",
    "        # Avança o t0\n",
    "        t0 = t1\n",
    "        # Atualiza o t1\n",
    "        t1 = (1 + np.sqrt(1 + 4*(t1**2)))/2\n",
    "\n",
    "        # Calcula o erro atual e salva na lista\n",
    "        current_error = Frob_sq(X1 - X)\n",
    "        error_history.append(current_error)\n",
    "\n",
    "    return X1, W, error_history"
   ]
  },
  {
   "cell_type": "code",
   "execution_count": 338,
   "metadata": {},
   "outputs": [
    {
     "data": {
      "image/png": "[encoded data removed]",
      "text/plain": [
       "<Figure size 640x480 with 1 Axes>"
      ]
     },
     "metadata": {},
     "output_type": "display_data"
    }
   ],
   "source": [
    "#Exemplo:\n",
    "X = data[0]\n",
    "Omega = data[1]\n",
    "Y = P_omega(X,Omega)\n",
    "n = X.shape[0]\n",
    "l = n/100\n",
    "L = 5\n",
    "it = 100\n",
    "\n",
    "f3 = APG(l,L,X,Y,Omega,it)\n",
    "error_APG = f3[2]\n",
    "\n",
    "import matplotlib.pyplot as plt\n",
    "plt.plot(error_APG)\n",
    "plt.show()"
   ]
  },
  {
   "cell_type": "markdown",
   "metadata": {},
   "source": [
    "# Exercício 6: SOFT-IMPUTE\n",
    "\n",
    "Finalmente, iremos ver outro algoritmo iterativo cuja heurística é bem diferente dos métodos anteriores baseados num problema de otimização regularizado. A idéia aqui se baseia em *imputar* iterativamente a matriz observada. Escolhendo-se $\\lambda>0$ e ponto inicial $\\bfX^0=0$, iteramos:\n",
    "\\begin{align*}\n",
    "\\bfX^{k+1}:=\\calS_{\\lambda}\\left(\\bfY+\\calP_{\\Omega}^\\perp(\\bfX^{k})\\right).\n",
    "\\end{align*}\n",
    "Equivalentemente:\n",
    "\\begin{align*}\n",
    "\\bfW^k&:=\\bfY+\\calP_{\\Omega}^\\perp(\\bfX^{k}),\\\\\n",
    "\\bfX^{k+1}&:=\\calS_{\\lambda}\\left(\\bfW^k\\right).\n",
    "\\end{align*}\n",
    "\n",
    "Referência: (https://jmlr.org/papers/v11/mazumder10a.html)\n",
    "\n",
    "Construa uma função ```SImp(l,X,Y,Omega_perp,it)``` que toma número positivo $\\lambda=l$, as matrizes $\\bfX^*$, $\\bfY$, e $\\Omega^\\perp$ e um número de iterações escolhido e retorna os últimos iterados $(\\bfX^{it},\\bfW^{it})$ e a sequência de erros $\\Vert \\bfX^k-\\bfX^*\\Vert^2$.\n"
   ]
  },
  {
   "cell_type": "code",
   "execution_count": 339,
   "metadata": {},
   "outputs": [],
   "source": [
    "#Escreva código aqui\n",
    "def SImp(l, X, Y, Omega_perp, it):\n",
    "    error_history = []\n",
    "    n = X.shape[0]\n",
    "    Xk = np.zeros((n, n))\n",
    "\n",
    "    for _ in range(it):\n",
    "        W = Y + P_omega(Xk, Omega_perp)\n",
    "        # Calcula a decomposição SVD de W\n",
    "        U, S, Vt = np.linalg.svd(W)\n",
    "        # Atualiza o X com base no soft-thresholding\n",
    "        Xk = U @ np.diag(soft(S, l)) @ Vt\n",
    "\n",
    "        # Calcula o erro atual e salva na lista\n",
    "        current_error = Frob_sq(Xk - X)\n",
    "        error_history.append(current_error)\n",
    "\n",
    "    return Xk, W, error_history"
   ]
  },
  {
   "cell_type": "code",
   "execution_count": 340,
   "metadata": {},
   "outputs": [
    {
     "data": {
      "image/png": "[encoded data removed]",
      "text/plain": [
       "<Figure size 640x480 with 1 Axes>"
      ]
     },
     "metadata": {},
     "output_type": "display_data"
    }
   ],
   "source": [
    "#Exemplo:\n",
    "X = data[0]\n",
    "Omega = data[1]\n",
    "Omega_perp = data[2]\n",
    "Y = P_omega(X,Omega)\n",
    "n = X.shape[0]\n",
    "l = n/100\n",
    "it = 100\n",
    "\n",
    "f4 = SImp(l,X,Y,Omega_perp,it)\n",
    "error_SImp = f4[2]\n",
    "\n",
    "import matplotlib.pyplot as plt\n",
    "plt.plot(error_SImp)\n",
    "plt.show()"
   ]
  },
  {
   "cell_type": "markdown",
   "metadata": {},
   "source": [
    "# Exercício 7: Plots\n",
    "\n",
    "Implemente num mesmo gráfico os erros quadráticos de cada método em função no número de iterações com os seguintes parâmetros: \n",
    "``n=10\n",
    "  r=1 \n",
    "  B_mag=1\n",
    "  m = 10*n*r`` \n",
    "  \n",
    "e: \n",
    "\n",
    "1. SVT: ```l = n/5, L = 5, it = 100```\n",
    "2. PG: ```l = n/100, L = 5, it = 100```\n",
    "3. APG: ```l = n/100, L = 5, it = 100```\n",
    "4. SImp: ```l = n/100, it = 100```"
   ]
  },
  {
   "cell_type": "code",
   "execution_count": 341,
   "metadata": {
    "scrolled": true
   },
   "outputs": [
    {
     "data": {
      "text/plain": [
       "[<matplotlib.lines.Line2D at 0x1e7ab486f20>]"
      ]
     },
     "execution_count": 341,
     "metadata": {},
     "output_type": "execute_result"
    },
    {
     "data": {
      "image/png": "[encoded data removed]",
      "text/plain": [
       "<Figure size 640x480 with 1 Axes>"
      ]
     },
     "metadata": {},
     "output_type": "display_data"
    }
   ],
   "source": [
    "#Escreva código aqui\n",
    "n = 10\n",
    "r = 1\n",
    "B_mag = 1\n",
    "m = 10*n*r\n",
    "data = data_genX(n,r,B_mag,m)\n",
    "\n",
    "X = data[0]\n",
    "Omega = data[1]\n",
    "Omega_perp = data[2]\n",
    "Y = P_omega(X,Omega)\n",
    "L = 5\n",
    "it = 100\n",
    "\n",
    "l = n/5\n",
    "error_SVT = SVT(l, L, X, Y, Omega, it)[2]\n",
    "\n",
    "l = n/100\n",
    "error_PG = PG(l, L, X, Y, Omega, it)[2]\n",
    "error_APG = APG(l, L, X, Y, Omega, it)[2]\n",
    "error_SImp = SImp(l, X, Y, Omega_perp, it)[2]\n",
    "\n",
    "plt.plot(error_SVT, label = \"SVT\", color = \"blue\")\n",
    "plt.plot(error_PG, label = \"PG\", color = \"orange\", marker = \"o\", markevery = 5)\n",
    "plt.plot(error_APG, label = \"APG\", color = \"green\", marker = \"*\", markevery = 5)\n",
    "plt.plot(error_SImp, label = \"SImp\", color = \"red\", marker = \"D\", markevery = 5)"
   ]
  }
 ],
 "metadata": {
  "kernelspec": {
   "display_name": "Python 3",
   "language": "python",
   "name": "python3"
  },
  "language_info": {
   "codemirror_mode": {
    "name": "ipython",
    "version": 3
   },
   "file_extension": ".py",
   "mimetype": "text/x-python",
   "name": "python",
   "nbconvert_exporter": "python",
   "pygments_lexer": "ipython3",
   "version": "3.10.10"
  }
 },
 "nbformat": 4,
 "nbformat_minor": 4
}
