{
 "cells": [
  {
   "cell_type": "markdown",
   "id": "7ef99c99",
   "metadata": {},
   "source": [
    "<div hidden>\n",
    "$\\DeclareMathOperator{\\tr}{tr}$\n",
    "$\\DeclareMathOperator{\\sign}{sign}$\n",
    "$\\DeclareMathOperator{\\argmin}{argmin}$\n",
    "</div>\n",
    "\n",
    "# Decomposição aditiva de matrizes\n",
    "\n",
    "Considere novamente problemas de estimação cujo parâmetro tem a estrutura de matriz. Modelamos anteriormente o caso em que o parâmetro tem posto pequeno. Existem aplicações em que vale a pena modelar o parâmetro da forma\n",
    "\n",
    "$$\n",
    "B^* = \\Gamma^* + S^*,  \n",
    "$$\n",
    "\n",
    "onde $\\Gamma^*$ é uma matriz de posto $r$ e $S^*$ é uma matriz com no máximo $s$ entradas não-nulas. são matrizes $\\mathbb{R}^{d_1\\times d_2}$. Neste projeto iremos implementar métodos iterativos para achar a solução do seguinte estimador de mínimos quadrados regularizado:\n",
    "\n",
    "\\begin{equation*}\n",
    "\\begin{aligned}\n",
    "& \\underset{[\\Gamma,S]\\in(\\mathbb{R}^{d_1\\times d_2})^2}{\\text{minimize}}\n",
    "& & f(\\Gamma,S) + \\lambda\\Vert \\Gamma\\Vert_N + \\tau\\Vert S\\Vert_1, \\\\\n",
    "& \\text{sujeito à}\n",
    "& & \\Vert\\Gamma\\Vert_\\infty\\le a, \n",
    "\\end{aligned}\n",
    "\\end{equation*}\n",
    "onde \n",
    "\n",
    "$$\n",
    "f(\\Gamma, S) := \\frac{1}{2n}\\sum_{i=1}^n\\left\\{\n",
    "y_i-\\tr\\left(\n",
    "X_i^\\top(\\Gamma + S)\n",
    "\\right)\n",
    "\\right\\}^2, \n",
    "$$\n",
    "\n",
    "$(y_1,X_1), \\ldots, (y_n,X_n)$ é uma amostra de labels/features em $\\mathbb{R}\\times\\mathbb{R}^{d_1\\times d_2}$. Àcima, $\\lambda,\\tau,a>0$ são hyper-parâmetros,  \n",
    "\n",
    "$$\n",
    "\\Vert \\Gamma\\Vert_N := \\sum_{j=1}^{\\min\\{d_1,d_2\\}}\\sigma(B),\n",
    "$$\n",
    "\n",
    "é a *norma nuclear* da matriz $\\Gamma$, onde $\\sigma_1(\\Gamma)\\ge\\cdots\\ge\\sigma_{\\min\\{d_1,d_2\\}}(\\Gamma)$ são os valores singulares de $B$. Além disso,  \n",
    "\n",
    "$$\n",
    "\\Vert \\Gamma\\Vert_\\infty := \\max_{(j,k)\\in[d_1]\\times[d_2]}|\\Gamma_{jk}|,\n",
    "$$\n",
    "\n",
    "é a *norma $\\ell_\\infty$* da matriz $\\Gamma$ e \n",
    "\n",
    "$$\n",
    "\\Vert S\\Vert_1 := \\sum_{j=1}^{d_1}\\sum_{k=1}^{d_2}|S_{jk}|,\n",
    "$$\n",
    "\n",
    "é a *norma $\\ell_1$* da matriz $S$.\n",
    "\n",
    "\n",
    "Exemplos de aplicação de variações deste problema incluem [*multi-task learning*](https://medium.com/gumgum-tech/multi-task-learning-what-is-it-how-does-it-work-and-why-does-it-work-294769c457bb) e [*análise multiômica*](https://academic.oup.com/bioinformatics/article/37/16/2259/6154849?login=false).\n",
    "  \n",
    "\n",
    "# Soft-Thresholding matricial\n",
    "\n",
    "\n",
    "Os métodos que veremos para os problemas anteriores se baseam na idéia de *splitting*. Por exemplo, note que o o problema de otimização em PCA robusta exige otimizar em duas variáveis $[\\Gamma, S]$. Entretanto otimizar simultaneamente é mais difícil do que otimizar alternadamente. \n",
    "\n",
    "Precisaremos computar os operadores proximais das normas nuclear e $\\ell_1$. O *operador proximal* da norma $\\lambda\\Vert\\cdot\\Vert_N$ com restrição $\\Vert\\Gamma\\Vert_{\\infty}\\le a$ é \n",
    "\n",
    "\\begin{equation*}\n",
    "P_N(W,\\lambda,a) = \n",
    "\\begin{aligned}\n",
    "& \\underset{\\Gamma \\in \\mathbb{R}^{d_1\\times d_2}}{\\text{armin}}\n",
    "& & \\frac{1}{2}\\Vert W - \\Gamma \\Vert_F^2 + \n",
    "\\lambda\\Vert \\Gamma\\Vert_N, \\\\\n",
    "& \\text{sujeito à}\n",
    "& & \\Vert\\Gamma\\Vert_\\infty\\le a.\n",
    "\\end{aligned}\n",
    "\\end{equation*}\n",
    "\n",
    "$P_N(W,\\lambda,a)$ tem fórmula explicíta. Dados $\\gamma\\in\\mathbb{R}$, defina\n",
    "\n",
    "$$\n",
    "S_a(\\gamma,\\lambda):=\\sign(\\gamma)\\cdot\\min\\left\\{\n",
    "\\max\\{\\gamma-\\lambda,0\\}, a\n",
    "\\right\\}.\n",
    "$$\n",
    "\n",
    "Àcima, $\\sign(\\gamma)$ é o sinal de $\\gamma$. Seja agora a decomposição de valores singulares (SVD) de $W$:\n",
    "$$\n",
    "W = U\\cdot D(\\gamma_1,\\ldots,\\gamma_r)\\cdot V^\\top.\n",
    "$$\n",
    "Então, \n",
    "$$\n",
    "P_N(W,\\lambda,a) = U\\cdot D\\left( S_a(\\gamma_1,\\lambda),\\ldots, S_a(\\gamma_r,\\lambda)\\right)\\cdot V^\\top, \n",
    "$$\n",
    "chamado de matriz *constraint soft-thresholding* de $W$.\n",
    "\n",
    "O *operador proximal* da norma $\\tau\\Vert\\cdot\\Vert_1$ é \n",
    "\n",
    "$$\n",
    "P_1(W,\\tau)\\in\\argmin_{S\\in\\mathbb{R}^{d_1\\times d_2}}\\left\\{\n",
    "\\frac{1}{2}\\Vert W - S\\Vert_F^2 + \\tau\\Vert S\\Vert_1\n",
    "\\right\\}.\n",
    "$$\n",
    "\n",
    "$P_1(W,\\tau)$ também tem fórmula explicíta. Dados $\\gamma\\in\\mathbb{R}$, defina\n",
    "\n",
    "$$\n",
    "S(\\gamma,\\lambda):=\\sign(\\gamma)\\cdot\\max\\{\\gamma-\\lambda,0\\}.\n",
    "$$\n",
    "\n",
    "$P_1(W,\\tau)$ é a matriz $d_1\\times d_2$ cuja $[j,k]$-ézima entrada é $S(W_{j,k},\\tau)$. "
   ]
  },
  {
   "cell_type": "code",
   "execution_count": 160,
   "id": "372cd1e7",
   "metadata": {},
   "outputs": [],
   "source": [
    "import matplotlib\n",
    "import numpy as np\n",
    "import scipy\n",
    "from scipy.stats import ortho_group\n",
    "import seaborn as sns\n",
    "import matplotlib.pyplot as plt\n",
    "import numpy.linalg as la\n",
    "import math"
   ]
  },
  {
   "cell_type": "markdown",
   "id": "7d7dcc4d",
   "metadata": {},
   "source": [
    "# Exercício 1:\n",
    "\n",
    "Construa as funções ``soft(x,l)`` que retorna $S(x,\\lambda)$ e ``csoft(x,l,a)`` que retorna $S_a(x,\\lambda)$. "
   ]
  },
  {
   "cell_type": "code",
   "execution_count": 161,
   "id": "3cd3cfc9",
   "metadata": {},
   "outputs": [],
   "source": [
    "#Escreva o código aqui\n",
    "def soft(x, l):\n",
    "    return np.sign(x) * np.maximum(x - l, 0)\n",
    "\n",
    "def csoft(x, l, a):\n",
    "    return np.sign(x) * np.minimum(np.maximum(x - l, 0), a)"
   ]
  },
  {
   "cell_type": "markdown",
   "id": "1d2ae7c2",
   "metadata": {},
   "source": [
    "# Exercício 2: Gerando dados\n",
    "\n",
    "Construa uma função ``data_genG(n,d1,d2,r,Gamma_mag)`` que toma $d_1$, $d_2$, posto $r$ e número positivo ``Gamma_mag`` e retorna a matriz $\\Gamma^*$ de dimensão $d_1\\times d_2$ e posto $r$ com $\\Vert\\Gamma\\Vert_\\infty$ no máximo $\\Gamma_{mag}/\\sqrt{n}$. Ao gerar esta matriz $\\Gamma^*$, use a função ```scipy.stats.ortho_group``` para construir duas matrizes $U$ e $V$ aleatórias ortogonais de dimensões $d_1\\times r$ e $d_2\\times r$ respectivamente; compute $U\\cdot D(\\Gamma_{mag},\\ldots,\\Gamma_{mag})\\cdot V^\\top$ e finalmente, normalize esta matriz entrada por entrada para satisfazer $\\Vert\\Gamma^*\\Vert\\le\\Gamma_{mag}/\\sqrt{n}$."
   ]
  },
  {
   "cell_type": "code",
   "execution_count": 162,
   "id": "e39d03be",
   "metadata": {},
   "outputs": [],
   "source": [
    "#Escreva o código aqui\n",
    "def data_genG(n, d1, d2, r, Gamma_mag):\n",
    "    # Montando as matrizes U, D e V\n",
    "    D = np.diag(np.full(r, Gamma_mag))\n",
    "    U = ortho_group.rvs(dim = d1)[:, :r]\n",
    "    V = ortho_group.rvs(dim = d2)[:, :r]\n",
    "    \n",
    "    # Calculando a matriz Gamma*\n",
    "    G = U @ D @ V.T\n",
    "\n",
    "    # Normalizando suas entradas\n",
    "    G = (G/np.max(np.abs(G))) * (Gamma_mag/np.sqrt(n))\n",
    "\n",
    "    return G"
   ]
  },
  {
   "cell_type": "code",
   "execution_count": 163,
   "id": "d2ae0a4d",
   "metadata": {},
   "outputs": [
    {
     "data": {
      "text/plain": [
       "((10, 10),\n",
       " 1.0,\n",
       " array([[-0.20993725, -0.12275652,  0.22499989, -0.68432932, -0.65424151,\n",
       "         -0.14972537, -0.41970175,  0.41851972, -0.0876293 ,  0.73335078],\n",
       "        [ 0.3043175 ,  0.40346577,  0.30399967,  0.09868576,  0.62761085,\n",
       "         -0.1585089 , -0.07840293, -0.00932332, -0.05004059,  0.09686592],\n",
       "        [-0.09908428, -0.22656517,  0.06844336, -0.77317212,  0.22856601,\n",
       "          0.52397871,  0.54331932, -0.2656946 , -0.17792684, -0.31054569],\n",
       "        [ 0.51768599, -0.1078086 ,  0.84577737,  0.43156578, -0.25729009,\n",
       "         -0.25268124,  0.57904394,  1.        , -0.06436538, -0.13232467],\n",
       "        [ 0.01075704,  0.80739289,  0.12359675, -0.45796306,  0.80844081,\n",
       "         -0.45155004, -0.35531618,  0.18565011, -0.59011706,  0.48827989],\n",
       "        [-0.0055286 , -0.23677376,  0.39071761, -0.96972203,  0.09163833,\n",
       "          0.44793235,  0.4883165 ,  0.00647092, -0.19209301, -0.05252851],\n",
       "        [ 0.29891687,  0.17905943,  0.19140134,  0.16135313,  0.6430295 ,\n",
       "          0.13201799,  0.19116469, -0.28358517,  0.09186101, -0.25213037],\n",
       "        [-0.07867334, -0.09479066, -0.14295849,  0.01180553, -0.21062615,\n",
       "          0.05955414, -0.52844531, -0.37441878,  0.38276461,  0.32112173],\n",
       "        [-0.43111624,  0.12152954, -0.44664828, -0.12301916, -0.28002813,\n",
       "         -0.32111366,  0.19723395,  0.53440445, -0.67436797, -0.10018087],\n",
       "        [-0.4497155 ,  0.13475144, -0.78958987,  0.22215805,  0.02283024,\n",
       "         -0.16715605,  0.35193604,  0.11652613, -0.58891473, -0.53268293]]))"
      ]
     },
     "execution_count": 163,
     "metadata": {},
     "output_type": "execute_result"
    }
   ],
   "source": [
    "#Exemplo:\n",
    "n=100\n",
    "d_1=10\n",
    "d_2=10\n",
    "r=5\n",
    "Gamma_mag=10\n",
    "Gamma_true = data_genG(n,d_1,d_2,r,Gamma_mag)\n",
    "Gamma_true.shape, np.max(abs(Gamma_true)), Gamma_true, "
   ]
  },
  {
   "cell_type": "markdown",
   "id": "c9135e08",
   "metadata": {},
   "source": [
    "# Exercício 3: Gerando dados\n",
    "\n",
    "Construa uma função ``data_genS(d1,d2,s,S_mag)`` que toma $d_1$, $d_2$, esparsidade $s\\in[d_1d_2]$ e número positivo ``S_mag`` e retorna a matriz $d_1\\times d_2$ com $s$ entradas iguais a $S_{mag}$ e outras entradas iguais a zero. Escolha as entradas não-nulas aleatoriamente."
   ]
  },
  {
   "cell_type": "code",
   "execution_count": 164,
   "id": "8ce7e529",
   "metadata": {},
   "outputs": [],
   "source": [
    "#Escreva o código aqui\n",
    "def data_genS(d1, d2, s, S_mag):\n",
    "    # Sorteando as entradas não nulas\n",
    "    not_null_entries = np.random.choice(range(d1*d2), s)\n",
    "    # Inicializando a matriz S como um vetor nulo\n",
    "    S = np.zeros(d1*d2)\n",
    "    # Colocando as entradas não nulas no vetor\n",
    "    S[not_null_entries] = S_mag\n",
    "    # Redimensionando para a matriz desejada\n",
    "    S = S.reshape((d1, d2))\n",
    "    \n",
    "    return S"
   ]
  },
  {
   "cell_type": "code",
   "execution_count": 165,
   "id": "9dcea37b",
   "metadata": {},
   "outputs": [
    {
     "data": {
      "text/plain": [
       "array([[ 0., 10., 10.,  0.,  0.],\n",
       "       [ 0.,  0.,  0.,  0.,  0.],\n",
       "       [ 0.,  0.,  0.,  0.,  0.],\n",
       "       [ 0.,  0.,  0.,  0., 10.],\n",
       "       [10.,  0.,  0., 10.,  0.],\n",
       "       [10.,  0.,  0.,  0.,  0.],\n",
       "       [10.,  0.,  0.,  0.,  0.],\n",
       "       [ 0., 10.,  0.,  0., 10.],\n",
       "       [ 0.,  0.,  0.,  0.,  0.],\n",
       "       [10.,  0.,  0.,  0.,  0.],\n",
       "       [ 0.,  0.,  0.,  0.,  0.],\n",
       "       [ 0.,  0.,  0.,  0.,  0.]])"
      ]
     },
     "execution_count": 165,
     "metadata": {},
     "output_type": "execute_result"
    }
   ],
   "source": [
    "#Exemplo:\n",
    "d_1=12\n",
    "d_2=5\n",
    "s=10\n",
    "S_mag=10\n",
    "S_true = data_genS(d_1,d_2,s,S_mag)\n",
    "S_true"
   ]
  },
  {
   "cell_type": "markdown",
   "id": "df297eab",
   "metadata": {},
   "source": [
    "# Exercício 4:\n",
    "\n",
    "Construa uma função ``data_genXe(n,d_1,d_2,Gamma_true,S_true,sd)`` que toma $n$, $d_1$, $d_2$, $\\Gamma^*$, $S^*$ e um número positivo ``sd`` e constrói os dados ``X``, uma lista de $n$ matrizes $X_i$ de dimensão $d_1\\times d_2$ independentes cujas entradas são iid normais padrão. A função também retorna o vetor ``y`` de dimensão $n$ cujas coordenadas satisfazem\n",
    "\n",
    "$$\n",
    "y_i = \\tr(X_i^\\top (\\Gamma^* + S^*)) + \\text{sd}\\cdot\\epsilon_i,\n",
    "$$\n",
    "onde $\\{\\epsilon_i\\}_{i=1}^n$ é uma sequência iid de normais padrão. "
   ]
  },
  {
   "cell_type": "code",
   "execution_count": 166,
   "id": "f0151c52",
   "metadata": {},
   "outputs": [],
   "source": [
    "#Escreva o código aqui\n",
    "def data_genXe(n, d_1, d_2, Gamma_true, S_true, sd):\n",
    "    X = []\n",
    "    y = np.zeros((n, 1))\n",
    "\n",
    "    for i in range(n):\n",
    "        Xi = np.random.standard_normal((d_1, d_2))\n",
    "        X.append(Xi)\n",
    "        ei = np.random.standard_normal(1)[0]\n",
    "        y[i] = np.trace(Xi.T @ (Gamma_true + S_true)) + sd * ei\n",
    "\n",
    "    return X, y"
   ]
  },
  {
   "cell_type": "code",
   "execution_count": 167,
   "id": "540010cc",
   "metadata": {},
   "outputs": [],
   "source": [
    "#Exemplo:\n",
    "d_1=40\n",
    "d_2=40\n",
    "r=5\n",
    "s=10\n",
    "Gamma_mag=10\n",
    "S_mag=10\n",
    "sd = 1\n",
    "n = 100\n",
    "\n",
    "Gamma_true = data_genG(n,d_1,d_2,r,Gamma_mag)\n",
    "S_true = data_genS(d_1,d_2,s,S_mag)\n",
    "B_true = Gamma_true + S_true\n",
    "X,y = data_genXe(n,d_1,d_2,Gamma_true,S_true,sd)"
   ]
  },
  {
   "cell_type": "code",
   "execution_count": 168,
   "id": "be88eeaa",
   "metadata": {},
   "outputs": [
    {
     "data": {
      "text/plain": [
       "(list, 100, (40, 40))"
      ]
     },
     "execution_count": 168,
     "metadata": {},
     "output_type": "execute_result"
    }
   ],
   "source": [
    "type(X), len(X), X[0].shape"
   ]
  },
  {
   "cell_type": "code",
   "execution_count": 169,
   "id": "c0558325",
   "metadata": {},
   "outputs": [
    {
     "data": {
      "text/plain": [
       "(numpy.ndarray, 100, (100, 1))"
      ]
     },
     "execution_count": 169,
     "metadata": {},
     "output_type": "execute_result"
    }
   ],
   "source": [
    "type(y), len(y), y.shape"
   ]
  },
  {
   "cell_type": "markdown",
   "id": "a24227da",
   "metadata": {},
   "source": [
    "# Exercício 5:\n",
    "\n",
    "Construa uma função `df(Gamma,S)` que retorna o gradiente $\\nabla f(\\Gamma, S)$."
   ]
  },
  {
   "cell_type": "code",
   "execution_count": 170,
   "id": "d8da47f7",
   "metadata": {},
   "outputs": [],
   "source": [
    "#Escreva o código aqui\n",
    "def df(Gamma, S):\n",
    "    grad = 0\n",
    "\n",
    "    for i in range(n):\n",
    "        grad -= (1/n) * (y[i] - np.trace(X[i].T @ (Gamma + S))) * X[i]\n",
    "\n",
    "    return grad"
   ]
  },
  {
   "cell_type": "code",
   "execution_count": 171,
   "id": "42038b0c",
   "metadata": {},
   "outputs": [
    {
     "data": {
      "text/plain": [
       "((40, 40),\n",
       " array([[-0.15897603, -0.03264513, -0.12206835, ...,  0.19444287,\n",
       "         -0.01245701,  0.12098336],\n",
       "        [ 0.10462404, -0.19323828,  0.15725707, ...,  0.0693349 ,\n",
       "         -0.09020911,  0.15044038],\n",
       "        [ 0.03816714, -0.0574212 ,  0.14224272, ..., -0.07396464,\n",
       "         -0.04198532, -0.04864631],\n",
       "        ...,\n",
       "        [ 0.12991275,  0.11484202,  0.11185617, ..., -0.01040451,\n",
       "          0.13316306,  0.01773824],\n",
       "        [-0.07255678,  0.02158592,  0.02687836, ..., -0.03865803,\n",
       "          0.10040149,  0.07732717],\n",
       "        [-0.08922192, -0.05312691, -0.04912865, ...,  0.11205302,\n",
       "         -0.14218763,  0.10294916]]))"
      ]
     },
     "execution_count": 171,
     "metadata": {},
     "output_type": "execute_result"
    }
   ],
   "source": [
    "df(Gamma_true,S_true).shape, df(Gamma_true,S_true)"
   ]
  },
  {
   "cell_type": "markdown",
   "id": "32600d8c",
   "metadata": {},
   "source": [
    "# Exercício 6: \n",
    "\n",
    "Vamos usar o método gradiente proximal com splitting para resolver o problema àcima:\n",
    "\n",
    "\\begin{align*}\n",
    "W_{\\Gamma,k+1} &:= \\Gamma_k - \\frac{1}{L}\\nabla f(\\Gamma_k,S_k),\\\\\n",
    "W_{S,k+1} &:= S_k - \\frac{1}{L}\\nabla f(\\Gamma_k,S_k),\\\\\n",
    "\\Gamma_{k+1} &:= P_N\\left(W_{\\Gamma, k+1},\\frac{\\lambda}{L},a\\right), \\\\\n",
    "S_{k+1} &:= P_1\\left(W_{S, k+1},\\frac{\\tau}{L}\\right).\n",
    "\\end{align*}\n",
    "\n",
    "Construa uma função ``trace_reg_MD(Df, n,d_1,d_2,X,y,L,lambd,tau,a, Gamma0,S0,t_final)`` onde `Df` é uma função que retorna o gradiente, $1/L$ é o passo, ``lambd`` ($=\\lambda$) e ``tau`` ($=\\tau$) são os fatores de penalização, ``Gamma0`` e ``S0`` são os pontos iniciais, e a variável ``t_final`` é o número de iterações. A função deve retornar a sequência $k\\mapsto\\Vert\\nabla f(\\Gamma_k,S_k)\\Vert_F^2$ e os últimos iterados $\\Gamma_{\\text{t_final}}$ e $S_{\\text{t_final}}$. Use hyper-parâmetros:\n",
    "\n",
    "\\begin{align*}\n",
    "a &= \\frac{\\Gamma_{mag}}{\\sqrt{n}},\\\\\n",
    "\\lambda &= \\text{sd}\\sqrt{\\frac{d_1+d_2}{n}},\\\\\n",
    "\\tau &= \\text{sd}\\sqrt{\\frac{\\log(d_1d_2)}{n}} + \\frac{\\Gamma_{mag}}{\\sqrt{n}}.\n",
    "\\end{align*}\n",
    "\n",
    "e passo $A/L$ ajustando $A\\ge1$ com\n",
    "$$\n",
    "L = A \\cdot \\lambda_{\\max}\\left(\n",
    "\\frac{1}{n}\\sum_{i=1}^n\\text{vec}(X_i)\\text{vec}^\\top(X_i)\n",
    "\\right),\n",
    "$$ \n",
    "onde $\\text{vec}(X_i)$ representa a matrix $d_1\\times d_2$ $X_i$ em forma vetorial de dimensão $d_1d_2$."
   ]
  },
  {
   "cell_type": "code",
   "execution_count": 172,
   "id": "4c99d930",
   "metadata": {},
   "outputs": [],
   "source": [
    "#Escreva o código aqui\n",
    "def trace_reg_MD(Df, n, d_1, d_2, X, y, L, lambd, tau, a, Gamma0, S0, t_final):\n",
    "    # Inicializando o histórico das normas do gradiente\n",
    "    grad_history = []\n",
    "    # Inicializando Gamma e S nos seus respectivos pontos iniciais\n",
    "    Gamma = Gamma0\n",
    "    S = S0\n",
    "\n",
    "    # Em cada iteração...\n",
    "    for _ in range(t_final):\n",
    "        # Calcula o gradiente\n",
    "        grad = Df(Gamma, S)\n",
    "\n",
    "        # Calcula sua norma e salva na lista\n",
    "        grad_norm = np.sum(grad ** 2)\n",
    "        grad_history.append(grad_norm)\n",
    "\n",
    "        # Atualiza os Ws\n",
    "        W_Gamma = Gamma - (1/L) * grad\n",
    "        W_S = S - (1/L) * grad\n",
    "\n",
    "        # Atualiza o Gamma\n",
    "        U, D, Vt = la.svd(W_Gamma)\n",
    "        Gamma = U @ np.diag(csoft(D, lambd/L, a)) @ Vt\n",
    "\n",
    "        # Atualiza o S\n",
    "        S = soft(W_S, tau/L)\n",
    "\n",
    "    return grad_history, Gamma, S"
   ]
  },
  {
   "cell_type": "code",
   "execution_count": 173,
   "id": "7d6182df",
   "metadata": {
    "scrolled": true
   },
   "outputs": [
    {
     "data": {
      "text/plain": [
       "[<matplotlib.lines.Line2D at 0x205c402f9a0>]"
      ]
     },
     "execution_count": 173,
     "metadata": {},
     "output_type": "execute_result"
    },
    {
     "data": {
      "image/png": "[encoded data removed]",
      "text/plain": [
       "<Figure size 640x480 with 1 Axes>"
      ]
     },
     "metadata": {},
     "output_type": "display_data"
    }
   ],
   "source": [
    "#Exemplo:\n",
    "Gamma0 = np.ones((d_1,d_2))\n",
    "S0 = np.ones((d_1,d_2))\n",
    "t_final = 100\n",
    "\n",
    "#Cálculo de L:\n",
    "aux = []\n",
    "for i in range(n):\n",
    "    xi = np.asarray(X[i])\n",
    "    aux.append(xi @ xi.T)\n",
    "L = 4*np.max(la.eigvalsh(sum(aux)/n))\n",
    "\n",
    "\n",
    "lambd = sd*np.sqrt((d_1+d_2)/n)\n",
    "a = Gamma_mag/np.sqrt(n)\n",
    "tau = sd*np.sqrt(np.log(d_1*d_2)/n) + Gamma_mag/np.sqrt(n)\n",
    "\n",
    "f1 = trace_reg_MD(df, n,d_1,d_2,X,y,L,lambd,tau,a,Gamma0,S0,t_final)\n",
    "plt.plot(f1[0])"
   ]
  },
  {
   "cell_type": "markdown",
   "id": "5e8ecd8c",
   "metadata": {},
   "source": [
    "# Exercício 7: \n",
    "\n",
    "O que acontece se $A$ for muito pequeno? "
   ]
  },
  {
   "cell_type": "markdown",
   "id": "394c96fd",
   "metadata": {},
   "source": [
    "**Resposta**: Se $A$ for muito pequeno, o passo do modelo será muito grande, fazendo com que ele não consiga realizar uma descida estável, ou seja, o gradiente pode não se aproximar continuamente de um ponto estacionário. Com isso, o modelo não é capaz de aprender adequadamente."
   ]
  },
  {
   "cell_type": "markdown",
   "id": "e1ac1c72",
   "metadata": {},
   "source": [
    "# Exercício 8: \n",
    "\n",
    "Agora, vamos usar o método gradiente proximal com splitting *acelerado*: iniciando de `[Gamma0,S0]=[Zg0,Zs0]` e $t_0=1$:\n",
    "\n",
    "\\begin{align*}\n",
    "Z_{\\Gamma, k+1}&:= P_N\\left(\n",
    "\\Gamma_k - (1/L)\\nabla f(\\Gamma_k,S_k), \\frac{\\lambda}{L}, a\n",
    "\\right),\\\\\n",
    "Z_{S, k+1}&:= P_1\\left(\n",
    "S_k - (1/L)\\nabla f(\\Gamma_k,S_k), \\frac{\\tau}{L}\n",
    "\\right),\\\\\n",
    "t_{k+1} &:= \\frac{1+\\sqrt{1+4t_k^2}}{2},\\\\\n",
    "\\Gamma_{k+1} &:= Z_{\\Gamma, k+1} + \\frac{t_{k}-1}{t_{k+1}}(Z_{\\Gamma, k+1} - Z_{\\Gamma, k}),\\\\\n",
    "S_{k+1} &:= Z_{S, k+1} + \\frac{t_{k}-1}{t_{k+1}}(Z_{S, k+1} - Z_{S, k}).\n",
    "\\end{align*}\n",
    "\n",
    "Construa uma função ``trace_reg_MD_acc(Df, n,d_1,d_2,X,y,L,lambd,tau,a,Gamma0,S0,t_final)`` onde `Df` é uma função que retorna o gradiente, $1/L$ é o passo, ``lambd`` ($=\\lambda$) e ``tau`` ($=\\tau$) são os fatores de penalização, ``Gamma0`` e ``S0`` são os pontos iniciais, e a variável ``t_final`` é o número de iterações. A função deve retornar a sequência $k\\mapsto\\Vert\\nabla f(\\Gamma_k,S_k)\\Vert_F^2$ e os últimos iterados $\\Gamma_{\\text{t_final}}$ e $S_{\\text{t_final}}$. Use hyper-parâmetros:\n",
    "\n",
    "\\begin{align*}\n",
    "a &= \\frac{\\Gamma_{mag}}{\\sqrt{n}},\\\\\n",
    "\\lambda &= \\text{sd}\\sqrt{\\frac{d_1+d_2}{n}},\\\\\n",
    "\\tau &= \\text{sd}\\sqrt{\\frac{\\log(d_1d_2)}{n}} + \\frac{\\Gamma_{mag}}{\\sqrt{n}}.\n",
    "\\end{align*}\n",
    "\n",
    "e passo $A/L$ ajustando $A\\ge1$ com\n",
    "$$\n",
    "L = A \\cdot \\lambda_{\\max}\\left(\n",
    "\\frac{1}{n}\\sum_{i=1}^n\\text{vec}(X_i)\\text{vec}^\\top(X_i)\n",
    "\\right).\n",
    "$$  "
   ]
  },
  {
   "cell_type": "code",
   "execution_count": 174,
   "id": "fe0733bb",
   "metadata": {},
   "outputs": [],
   "source": [
    "#Escreva o código aqui\n",
    "def trace_reg_MD_acc(Df, n, d_1, d_2, X, y, L, lambd, tau, a, Gamma0, S0, t_final):\n",
    "    # Inicializando o histórico das normas do gradiente\n",
    "    grad_history = []\n",
    "    # Inicializando as variáveis\n",
    "    Gamma = Gamma0\n",
    "    S = S0\n",
    "    Z_Gamma0 = Gamma0\n",
    "    Z_Gamma1 = Z_Gamma0\n",
    "    Z_S0 = S0\n",
    "    Z_S1 = Z_S0\n",
    "    t0 = 1\n",
    "    t1 = t0\n",
    "\n",
    "    # Em cada iteração...\n",
    "    for _ in range(t_final):\n",
    "        # Calcula o gradiente\n",
    "        grad = Df(Gamma, S)\n",
    "\n",
    "        # Calcula sua norma e salva na lista\n",
    "        grad_norm = np.sum(grad ** 2)\n",
    "        grad_history.append(grad_norm)\n",
    "        \n",
    "        # Avança e atualiza o Z_Gamma\n",
    "        Z_Gamma0 = Z_Gamma1\n",
    "        U, D, Vt = la.svd(Gamma - (1/L) * grad, full_matrices = False)\n",
    "        Z_Gamma1 = U @ np.diag(csoft(D, lambd/L, a)) @ Vt\n",
    "\n",
    "        # Avança e atualiza o Z_S\n",
    "        Z_S0 = Z_S1\n",
    "        # Z_S1 = soft(S - (1/L) * grad, tau/L)\n",
    "        U, D, Vt = la.svd(S - (1/L) * grad, full_matrices = False)\n",
    "        Z_S1 = U @ np.diag(soft(D, tau/L)) @ Vt\n",
    "\n",
    "        # Avança e atualiza o t\n",
    "        t0 = t1\n",
    "        t1 = (1 + np.sqrt(1 + 4 * (t0 ** 2)))/2\n",
    "\n",
    "        # Atualiza o Gamma\n",
    "        Gamma = Z_Gamma1 + ((t0 - 1)/t1) * (Z_Gamma1 - Z_Gamma0)\n",
    "\n",
    "        # Atualiza o S\n",
    "        S = Z_S1 + ((t0 - 1)/t1) * (Z_S1 - Z_S0)\n",
    "\n",
    "    return grad_history, Gamma, S"
   ]
  },
  {
   "cell_type": "code",
   "execution_count": 175,
   "id": "5e3f59a5",
   "metadata": {},
   "outputs": [
    {
     "data": {
      "text/plain": [
       "[<matplotlib.lines.Line2D at 0x205c4099ab0>]"
      ]
     },
     "execution_count": 175,
     "metadata": {},
     "output_type": "execute_result"
    },
    {
     "data": {
      "image/png": "[encoded data removed]",
      "text/plain": [
       "<Figure size 640x480 with 1 Axes>"
      ]
     },
     "metadata": {},
     "output_type": "display_data"
    }
   ],
   "source": [
    "Gamma0 = np.ones((d_1,d_2))\n",
    "S0 = np.ones((d_1,d_2))\n",
    "t_final = 100\n",
    "\n",
    "#Cálculo de L:\n",
    "aux = []\n",
    "for i in range(n):\n",
    "    xi = np.asarray(X[i])\n",
    "    aux.append(xi @ xi.T)\n",
    "L = 4*np.max(la.eigvalsh(sum(aux)/n))\n",
    "\n",
    "lambd = sd*np.sqrt((d_1+d_2)/n)\n",
    "a = Gamma_mag/np.sqrt(n)\n",
    "tau = sd*np.sqrt(np.log(d_1*d_2)/n) + Gamma_mag/np.sqrt(n)\n",
    "\n",
    "f2 = trace_reg_MD_acc(df, n,d_1,d_2,X,y,L,lambd,tau,a,Gamma0,S0,t_final)\n",
    "plt.plot(f2[0])"
   ]
  },
  {
   "cell_type": "markdown",
   "id": "3a99d8bb",
   "metadata": {},
   "source": [
    "# Exercício 9: \n",
    "\n",
    "Implemente num mesmo gráfico os erros $k\\mapsto\\Vert\\nabla f(\\Gamma_k,S_k)\\Vert_F^2$ de cada método em função no número de iterações."
   ]
  },
  {
   "cell_type": "code",
   "execution_count": 176,
   "id": "e90d77b6",
   "metadata": {},
   "outputs": [
    {
     "data": {
      "text/plain": [
       "[]"
      ]
     },
     "execution_count": 176,
     "metadata": {},
     "output_type": "execute_result"
    },
    {
     "data": {
      "image/png": "[encoded data removed]",
      "text/plain": [
       "<Figure size 640x480 with 1 Axes>"
      ]
     },
     "metadata": {},
     "output_type": "display_data"
    }
   ],
   "source": [
    "#Escreva o código aqui\n",
    "plt.plot(f1[0], label = \"ProxGrad-Split\")\n",
    "plt.plot(f2[0], label = \"Nesterov-ProxGrad-Split\", marker = \"o\", markevery = 5)\n",
    "plt.xlabel(\"Iteration\")\n",
    "plt.ylabel(r\"$\\|\\nabla f(\\Gamma_k, S_k)\\|_F^2$\")\n",
    "plt.yscale(\"log\")\n",
    "plt.grid(True)\n",
    "plt.tick_params(axis = \"y\", which = \"both\", length = 0)\n",
    "plt.legend()\n",
    "plt.plot()"
   ]
  },
  {
   "cell_type": "markdown",
   "id": "162acb1f",
   "metadata": {},
   "source": [
    "# PCA robusta\n",
    "\n",
    "O modelo anterior é *supervisionado*. Em *visão computacional*, um modelo relacionando mas não-supervisionado consiste em estimar cada uma das componentes $[\\Gamma^*,S^*]$ tendo apenas uma medição ruidosa da soma $B^*=\\Gamma^*+S^*$, por exemplo, ao separar de uma foto um carro (image esparsa) do ambiente (imagem de posto pequeno):\n",
    "\n",
    "![](Robust-PCA.png)\n",
    "\n",
    "Neste caso, resolvemos:\n",
    "\n",
    "\\begin{equation*}\n",
    "\\begin{aligned}\n",
    "& \\underset{[\\Gamma,S]\\in(\\mathbb{R}^{d_1\\times d_2})^2}{\\text{minimize}}\n",
    "& & F(\\Gamma,S) + \\lambda\\Vert \\Gamma\\Vert_N + \\tau\\Vert S\\Vert_1, \\\\\n",
    "& \\text{sujeito à}\n",
    "& & \\Vert\\Gamma\\Vert_\\infty\\le a, \n",
    "\\end{aligned}\n",
    "\\end{equation*}\n",
    "\n",
    "onde \n",
    "\n",
    "$$\n",
    "F(\\Gamma,S) = \\frac{1}{2}\\Vert Y - (\\Gamma+S)\\Vert_F^2, \n",
    "$$\n",
    "\n",
    "$Y$ é uma matriz de dados em $\\mathbb{R}\\times\\mathbb{R}^{d_1\\times d_2}$, por exemplo, uma imagem ruidosa. Aplicações incluem *vigilância por vídeos*, *reconhecimento facial*, *topic modelling* (incluindo *latent semantic analysis* e *sentiment analysis*) e *recomendação de sistemas* sujeito a dados corruptos. Veja e.g. [Robust PCA?](https://arxiv.org/abs/0912.3599) e [Video](https://www.youtube.com/watch?v=yDpz0PqULXQ)."
   ]
  },
  {
   "cell_type": "markdown",
   "id": "acf4c5d3",
   "metadata": {},
   "source": [
    "# Exercício 10:\n",
    "\n",
    "Construa uma função ``data_genYe(n,d_1,d_2,B_true,sd)`` que toma $n$, $d_1$, $d_2$, $B^*$, e um número positivo ``sd`` e constrói a matriz de dados ``Y`` tal que\n",
    "\n",
    "$$\n",
    "Y = B^* + \\text{sd}\\cdot\\Xi,\n",
    "$$\n",
    "\n",
    "onde $\\Xi$ é uma matriz $d_1\\times d_2$ cujas entradas são iid $N(0,1)$. NOTA: Iremos usar as mesmas funções anteriores para gerar $\\Gamma^*$ e $S^*$."
   ]
  },
  {
   "cell_type": "code",
   "execution_count": 177,
   "id": "3dc2a4ee",
   "metadata": {},
   "outputs": [],
   "source": [
    "#Escreva o código aqui\n",
    "def data_genYe(n, d_1, d_2, B_true, sd):\n",
    "    # Gerando Xi\n",
    "    Xi = np.random.standard_normal((d_1, d_2))\n",
    "    # Calculando Y\n",
    "    Y = B_true + sd * Xi\n",
    "\n",
    "    return Y"
   ]
  },
  {
   "cell_type": "code",
   "execution_count": 178,
   "id": "b07e89c2",
   "metadata": {},
   "outputs": [],
   "source": [
    "#Exemplo:\n",
    "d_1=40\n",
    "d_2=40\n",
    "r=5\n",
    "s=10\n",
    "Gamma_mag=10\n",
    "S_mag=10\n",
    "sd = .1\n",
    "n = 100\n",
    "\n",
    "Gamma_true = data_genG(n,d_1,d_2,r,Gamma_mag)\n",
    "S_true = data_genS(d_1,d_2,s,S_mag)\n",
    "B_true = Gamma_true + S_true\n",
    "Y = data_genYe(n,d_1,d_2,B_true,sd)"
   ]
  },
  {
   "cell_type": "code",
   "execution_count": 179,
   "id": "70e6e294",
   "metadata": {},
   "outputs": [
    {
     "data": {
      "text/plain": [
       "((40, 40),\n",
       " array([[-0.13407175, -0.4039755 ,  0.03739796, ...,  0.06176982,\n",
       "          0.06517003, -0.2856575 ],\n",
       "        [ 0.14906589, -0.07427348,  0.34410025, ..., -0.15814919,\n",
       "          0.14483831,  0.08025086],\n",
       "        [-0.1555472 , -0.19883134,  0.38030508, ...,  0.09725556,\n",
       "          0.45108419, -0.42149373],\n",
       "        ...,\n",
       "        [-0.29915767, -0.31894188,  0.0410459 , ..., -0.08739853,\n",
       "          0.30146803, -0.24586331],\n",
       "        [-0.22434159,  0.08104336,  0.40865314, ...,  0.21629088,\n",
       "          0.29344552, -0.23757129],\n",
       "        [ 0.57510384,  0.06650971,  0.16136756, ...,  0.0201171 ,\n",
       "         -0.19839942,  0.27240226]]))"
      ]
     },
     "execution_count": 179,
     "metadata": {},
     "output_type": "execute_result"
    }
   ],
   "source": [
    "Y.shape, Y"
   ]
  },
  {
   "cell_type": "markdown",
   "id": "58b3f864",
   "metadata": {},
   "source": [
    "# Exercício 11:\n",
    "\n",
    "Construa uma função `dF(Gamma,S)` que retorna o gradiente $\\nabla F(\\Gamma,S)$."
   ]
  },
  {
   "cell_type": "code",
   "execution_count": 180,
   "id": "18d48f40",
   "metadata": {},
   "outputs": [],
   "source": [
    "#Escreva o código aqui\n",
    "def dF(Gamma, S):\n",
    "    return -(Y - (Gamma + S))"
   ]
  },
  {
   "cell_type": "markdown",
   "id": "f3ec9dad",
   "metadata": {},
   "source": [
    "# Exercício 12: \n",
    "\n",
    "Vamos usar o método gradiente proximal com splitting para resolver o problema àcima. Ele tem exatamente a mesma expressão do Exercício 6 mas usando $\\nabla F(\\Gamma,S)$. Implemente o algoritmo com\n",
    "\n",
    "\\begin{align*}\n",
    "a &= \\frac{\\Gamma_{mag}}{\\sqrt{n}},\\\\\n",
    "\\lambda &= \\text{sd}\\sqrt{\\frac{d_1+d_2}{n}},\\\\\n",
    "\\tau &= \\text{sd}\\sqrt{\\frac{\\log(d_1d_2)}{n}} + \\frac{\\Gamma_{mag}}{\\sqrt{n}}.\n",
    "\\end{align*}\n",
    "\n",
    "e passo $1/L$. PERGUNTA: Exiba um limite aproximado em que para $L$ os métodos convergem e para um $L$ próximo os métodos não convergem. \n",
    "\n",
    "Em seguida, implemente o método gradiente proximal com splitting acelerado: é o mesmo que o exercício 8 mas usando $\\nabla F(\\Gamma,S)$.\n",
    "\n",
    "Finalmente, plote num mesmo gráfico a sequência de erros $\\Vert\\nabla f(\\Gamma_k,S_k)\\Vert_F^2$ para os dois métodos."
   ]
  },
  {
   "cell_type": "code",
   "execution_count": 181,
   "id": "c6b1bfc1",
   "metadata": {},
   "outputs": [],
   "source": [
    "# Setando os hiperparâmetros\n",
    "a = Gamma_mag/np.sqrt(n)\n",
    "lambd = sd * np.sqrt((d_1 + d_2)/n)\n",
    "tau = sd * np.sqrt(np.log(d_1 * d_2)/n) + Gamma_mag/np.sqrt(n)"
   ]
  },
  {
   "cell_type": "code",
   "execution_count": 187,
   "id": "77681a5b",
   "metadata": {},
   "outputs": [],
   "source": [
    "# Otimizando o valor do L para o método normal\n",
    "best_L = L\n",
    "best_error = np.infty\n",
    "Ls = []\n",
    "Ls_errors = []\n",
    "\n",
    "for i in range(200, 500):\n",
    "    g1 = trace_reg_MD(dF, n, d_1, d_2, X, Y, L/i, lambd, tau, a, Gamma0, S0, t_final)\n",
    "    Ls.append(L/i)\n",
    "    Ls_errors.append(g1[0][-1])\n",
    "    if g1[0][-1] < best_error:\n",
    "        best_error = g1[0][-1]\n",
    "        best_L = L/i"
   ]
  },
  {
   "cell_type": "code",
   "execution_count": 188,
   "id": "7a97fa8d",
   "metadata": {},
   "outputs": [
    {
     "name": "stdout",
     "output_type": "stream",
     "text": [
      "Best L:  0.7690872684551645\n"
     ]
    },
    {
     "data": {
      "text/plain": [
       "[]"
      ]
     },
     "execution_count": 188,
     "metadata": {},
     "output_type": "execute_result"
    },
    {
     "data": {
      "image/png": "[encoded data removed]",
      "text/plain": [
       "<Figure size 640x480 with 1 Axes>"
      ]
     },
     "metadata": {},
     "output_type": "display_data"
    }
   ],
   "source": [
    "print(\"Best L: \", best_L)\n",
    "\n",
    "plt.plot(Ls, Ls_errors)\n",
    "plt.xscale(\"log\")\n",
    "plt.xlabel(\"L\")\n",
    "plt.ylabel(\"Final error\")\n",
    "plt.plot()"
   ]
  },
  {
   "cell_type": "code",
   "execution_count": 189,
   "id": "8d9157dc",
   "metadata": {},
   "outputs": [
    {
     "data": {
      "text/plain": [
       "[<matplotlib.lines.Line2D at 0x205c78a6f50>]"
      ]
     },
     "execution_count": 189,
     "metadata": {},
     "output_type": "execute_result"
    },
    {
     "data": {
      "image/png": "[encoded data removed]",
      "text/plain": [
       "<Figure size 640x480 with 1 Axes>"
      ]
     },
     "metadata": {},
     "output_type": "display_data"
    }
   ],
   "source": [
    "g1 = trace_reg_MD(dF, n, d_1, d_2, X, Y, L, lambd, tau, a, Gamma0, S0, t_final)\n",
    "plt.plot(g1[0])"
   ]
  },
  {
   "cell_type": "code",
   "execution_count": 190,
   "id": "1bbf186a",
   "metadata": {},
   "outputs": [],
   "source": [
    "# Otimizando o valor do L para o método acelerado\n",
    "best_L = 0\n",
    "best_error = np.infty\n",
    "Ls = []\n",
    "Ls_errors = []\n",
    "\n",
    "for i in range(1, 250):\n",
    "    g2 = trace_reg_MD_acc(dF, n, d_1, d_2, X, Y, L/i, lambd, tau, a, Gamma0, S0, t_final)\n",
    "    Ls.append(L/i)\n",
    "    Ls_errors.append(g2[0][-1])\n",
    "    if g2[0][-1] < best_error:\n",
    "        best_error = g2[0][-1]\n",
    "        best_L = L/i"
   ]
  },
  {
   "cell_type": "code",
   "execution_count": 191,
   "id": "42513150",
   "metadata": {},
   "outputs": [
    {
     "name": "stdout",
     "output_type": "stream",
     "text": [
      "Best L:  63.32151843614188\n"
     ]
    },
    {
     "data": {
      "text/plain": [
       "[]"
      ]
     },
     "execution_count": 191,
     "metadata": {},
     "output_type": "execute_result"
    },
    {
     "data": {
      "image/png": "[encoded data removed]",
      "text/plain": [
       "<Figure size 640x480 with 1 Axes>"
      ]
     },
     "metadata": {},
     "output_type": "display_data"
    }
   ],
   "source": [
    "print(\"Best L: \", best_L)\n",
    "\n",
    "plt.plot(Ls, Ls_errors)\n",
    "plt.xscale(\"log\")\n",
    "plt.xlabel(\"L\")\n",
    "plt.ylabel(\"Final error\")\n",
    "plt.plot()"
   ]
  },
  {
   "cell_type": "code",
   "execution_count": 192,
   "id": "1cf44c6c",
   "metadata": {},
   "outputs": [
    {
     "data": {
      "text/plain": [
       "[<matplotlib.lines.Line2D at 0x205c760df00>]"
      ]
     },
     "execution_count": 192,
     "metadata": {},
     "output_type": "execute_result"
    },
    {
     "data": {
      "image/png": "[encoded data removed]",
      "text/plain": [
       "<Figure size 640x480 with 1 Axes>"
      ]
     },
     "metadata": {},
     "output_type": "display_data"
    }
   ],
   "source": [
    "g2 = trace_reg_MD_acc(dF, n, d_1, d_2, X, Y, L, lambd, tau, a, Gamma0, S0, t_final)\n",
    "plt.plot(g2[0])"
   ]
  },
  {
   "cell_type": "code",
   "execution_count": 193,
   "id": "cf052c4b",
   "metadata": {},
   "outputs": [
    {
     "data": {
      "text/plain": [
       "[]"
      ]
     },
     "execution_count": 193,
     "metadata": {},
     "output_type": "execute_result"
    },
    {
     "data": {
      "image/png": "[encoded data removed]",
      "text/plain": [
       "<Figure size 640x480 with 1 Axes>"
      ]
     },
     "metadata": {},
     "output_type": "display_data"
    }
   ],
   "source": [
    "plt.plot(g1[0], label = \"ProxGrad-Split\")\n",
    "plt.plot(g2[0], label = \"Nesterov-ProxGrad-Split\", marker = \"o\", markevery = 5)\n",
    "plt.xlabel(\"Iteration\")\n",
    "plt.ylabel(r\"$\\|\\nabla f(\\Gamma_k, S_k)\\|_F^2$\")\n",
    "plt.yscale(\"log\")\n",
    "plt.grid(True)\n",
    "plt.tick_params(axis = \"y\", which = \"both\", length = 0)\n",
    "plt.legend()\n",
    "plt.plot()"
   ]
  }
 ],
 "metadata": {
  "jupytext": {
   "cell_metadata_filter": "tags,name,-all",
   "main_language": "python",
   "notebook_metadata_filter": "-all"
  },
  "kernelspec": {
   "display_name": "Python 3",
   "language": "python",
   "name": "python3"
  },
  "language_info": {
   "codemirror_mode": {
    "name": "ipython",
    "version": 3
   },
   "file_extension": ".py",
   "mimetype": "text/x-python",
   "name": "python",
   "nbconvert_exporter": "python",
   "pygments_lexer": "ipython3",
   "version": "3.10.10"
  }
 },
 "nbformat": 4,
 "nbformat_minor": 5
}
