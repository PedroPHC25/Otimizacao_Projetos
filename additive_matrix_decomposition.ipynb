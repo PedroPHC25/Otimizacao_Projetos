{
 "cells": [
  {
   "cell_type": "markdown",
   "id": "7ef99c99",
   "metadata": {},
   "source": [
    "<div hidden>\n",
    "$\\DeclareMathOperator{\\tr}{tr}$\n",
    "$\\DeclareMathOperator{\\sign}{sign}$\n",
    "$\\DeclareMathOperator{\\argmin}{argmin}$\n",
    "</div>\n",
    "\n",
    "# Decomposição aditiva de matrizes\n",
    "\n",
    "Considere novamente problemas de estimação cujo parâmetro tem a estrutura de matriz. Modelamos anteriormente o caso em que o parâmetro tem posto pequeno. Existem aplicações em que vale a pena modelar o parâmetro da forma\n",
    "\n",
    "$$\n",
    "B^* = \\Gamma^* + S^*,  \n",
    "$$\n",
    "\n",
    "onde $\\Gamma^*$ é uma matriz de posto $r$ e $S^*$ é uma matriz com no máximo $s$ entradas não-nulas. são matrizes $\\mathbb{R}^{d_1\\times d_2}$. Neste projeto iremos implementar métodos iterativos para achar a solução do seguinte estimador de mínimos quadrados regularizado:\n",
    "\n",
    "\\begin{equation*}\n",
    "\\begin{aligned}\n",
    "& \\underset{[\\Gamma,S]\\in(\\mathbb{R}^{d_1\\times d_2})^2}{\\text{minimize}}\n",
    "& & f(\\Gamma,S) + \\lambda\\Vert \\Gamma\\Vert_N + \\tau\\Vert S\\Vert_1, \\\\\n",
    "& \\text{sujeito à}\n",
    "& & \\Vert\\Gamma\\Vert_\\infty\\le a, \n",
    "\\end{aligned}\n",
    "\\end{equation*}\n",
    "onde \n",
    "\n",
    "$$\n",
    "f(\\Gamma, S) := \\frac{1}{2n}\\sum_{i=1}^n\\left\\{\n",
    "y_i-\\tr\\left(\n",
    "X_i^\\top(\\Gamma + S)\n",
    "\\right)\n",
    "\\right\\}^2, \n",
    "$$\n",
    "\n",
    "$(y_1,X_1), \\ldots, (y_n,X_n)$ é uma amostra de labels/features em $\\mathbb{R}\\times\\mathbb{R}^{d_1\\times d_2}$. Àcima, $\\lambda,\\tau,a>0$ são hyper-parâmetros,  \n",
    "\n",
    "$$\n",
    "\\Vert \\Gamma\\Vert_N := \\sum_{j=1}^{\\min\\{d_1,d_2\\}}\\sigma(B),\n",
    "$$\n",
    "\n",
    "é a *norma nuclear* da matriz $\\Gamma$, onde $\\sigma_1(\\Gamma)\\ge\\cdots\\ge\\sigma_{\\min\\{d_1,d_2\\}}(\\Gamma)$ são os valores singulares de $B$. Além disso,  \n",
    "\n",
    "$$\n",
    "\\Vert \\Gamma\\Vert_\\infty := \\max_{(j,k)\\in[d_1]\\times[d_2]}|\\Gamma_{jk}|,\n",
    "$$\n",
    "\n",
    "é a *norma $\\ell_\\infty$* da matriz $\\Gamma$ e \n",
    "\n",
    "$$\n",
    "\\Vert S\\Vert_1 := \\sum_{j=1}^{d_1}\\sum_{k=1}^{d_2}|S_{jk}|,\n",
    "$$\n",
    "\n",
    "é a *norma $\\ell_1$* da matriz $S$.\n",
    "\n",
    "\n",
    "Exemplos de aplicação de variações deste problema incluem [*multi-task learning*](https://medium.com/gumgum-tech/multi-task-learning-what-is-it-how-does-it-work-and-why-does-it-work-294769c457bb) e [*análise multiômica*](https://academic.oup.com/bioinformatics/article/37/16/2259/6154849?login=false).\n",
    "  \n",
    "\n",
    "# Soft-Thresholding matricial\n",
    "\n",
    "\n",
    "Os métodos que veremos para os problemas anteriores se baseam na idéia de *splitting*. Por exemplo, note que o o problema de otimização em PCA robusta exige otimizar em duas variáveis $[\\Gamma, S]$. Entretanto otimizar simultaneamente é mais difícil do que otimizar alternadamente. \n",
    "\n",
    "Precisaremos computar os operadores proximais das normas nuclear e $\\ell_1$. O *operador proximal* da norma $\\lambda\\Vert\\cdot\\Vert_N$ com restrição $\\Vert\\Gamma\\Vert_{\\infty}\\le a$ é \n",
    "\n",
    "\\begin{equation*}\n",
    "P_N(W,\\lambda,a) = \n",
    "\\begin{aligned}\n",
    "& \\underset{\\Gamma \\in \\mathbb{R}^{d_1\\times d_2}}{\\text{armin}}\n",
    "& & \\frac{1}{2}\\Vert W - \\Gamma \\Vert_F^2 + \n",
    "\\lambda\\Vert \\Gamma\\Vert_N, \\\\\n",
    "& \\text{sujeito à}\n",
    "& & \\Vert\\Gamma\\Vert_\\infty\\le a.\n",
    "\\end{aligned}\n",
    "\\end{equation*}\n",
    "\n",
    "$P_N(W,\\lambda,a)$ tem fórmula explicíta. Dados $\\gamma\\in\\mathbb{R}$, defina\n",
    "\n",
    "$$\n",
    "S_a(\\gamma,\\lambda):=\\sign(\\gamma)\\cdot\\min\\left\\{\n",
    "\\max\\{\\gamma-\\lambda,0\\}, a\n",
    "\\right\\}.\n",
    "$$\n",
    "\n",
    "Àcima, $\\sign(\\gamma)$ é o sinal de $\\gamma$. Seja agora a decomposição de valores singulares (SVD) de $W$:\n",
    "$$\n",
    "W = U\\cdot D(\\gamma_1,\\ldots,\\gamma_r)\\cdot V^\\top.\n",
    "$$\n",
    "Então, \n",
    "$$\n",
    "P_N(W,\\lambda,a) = U\\cdot D\\left( S_a(\\gamma_1,\\lambda),\\ldots, S_a(\\gamma_r,\\lambda)\\right)\\cdot V^\\top, \n",
    "$$\n",
    "chamado de matriz *constraint soft-thresholding* de $W$.\n",
    "\n",
    "O *operador proximal* da norma $\\tau\\Vert\\cdot\\Vert_1$ é \n",
    "\n",
    "$$\n",
    "P_1(W,\\tau)\\in\\argmin_{S\\in\\mathbb{R}^{d_1\\times d_2}}\\left\\{\n",
    "\\frac{1}{2}\\Vert W - S\\Vert_F^2 + \\tau\\Vert S\\Vert_1\n",
    "\\right\\}.\n",
    "$$\n",
    "\n",
    "$P_1(W,\\tau)$ também tem fórmula explicíta. Dados $\\gamma\\in\\mathbb{R}$, defina\n",
    "\n",
    "$$\n",
    "S(\\gamma,\\lambda):=\\sign(\\gamma)\\cdot\\max\\{\\gamma-\\lambda,0\\}.\n",
    "$$\n",
    "\n",
    "$P_1(W,\\tau)$ é a matriz $d_1\\times d_2$ cuja $[j,k]$-ézima entrada é $S(W_{j,k},\\tau)$. "
   ]
  },
  {
   "cell_type": "code",
   "execution_count": 315,
   "id": "372cd1e7",
   "metadata": {},
   "outputs": [],
   "source": [
    "import matplotlib\n",
    "import numpy as np\n",
    "import scipy\n",
    "from scipy.stats import ortho_group\n",
    "import seaborn as sns\n",
    "import matplotlib.pyplot as plt\n",
    "import numpy.linalg as la\n",
    "import math"
   ]
  },
  {
   "cell_type": "markdown",
   "id": "7d7dcc4d",
   "metadata": {},
   "source": [
    "# Exercício 1:\n",
    "\n",
    "Construa as funções ``soft(x,l)`` que retorna $S(x,\\lambda)$ e ``csoft(x,l,a)`` que retorna $S_a(x,\\lambda)$. "
   ]
  },
  {
   "cell_type": "code",
   "execution_count": 316,
   "id": "3cd3cfc9",
   "metadata": {},
   "outputs": [],
   "source": [
    "#Escreva o código aqui\n",
    "def soft(x, l):\n",
    "    return np.sign(x) * np.maximum(x - l, 0)\n",
    "\n",
    "def csoft(x, l, a):\n",
    "    return np.sign(x) * np.minimum(np.maximum(x - l, 0), a)"
   ]
  },
  {
   "cell_type": "markdown",
   "id": "1d2ae7c2",
   "metadata": {},
   "source": [
    "# Exercício 2: Gerando dados\n",
    "\n",
    "Construa uma função ``data_genG(n,d1,d2,r,Gamma_mag)`` que toma $d_1$, $d_2$, posto $r$ e número positivo ``Gamma_mag`` e retorna a matriz $\\Gamma^*$ de dimensão $d_1\\times d_2$ e posto $r$ com $\\Vert\\Gamma\\Vert_\\infty$ no máximo $\\Gamma_{mag}/\\sqrt{n}$. Ao gerar esta matriz $\\Gamma^*$, use a função ```scipy.stats.ortho_group``` para construir duas matrizes $U$ e $V$ aleatórias ortogonais de dimensões $d_1\\times r$ e $d_2\\times r$ respectivamente; compute $U\\cdot D(\\Gamma_{mag},\\ldots,\\Gamma_{mag})\\cdot V^\\top$ e finalmente, normalize esta matriz entrada por entrada para satisfazer $\\Vert\\Gamma^*\\Vert\\le\\Gamma_{mag}/\\sqrt{n}$."
   ]
  },
  {
   "cell_type": "code",
   "execution_count": 317,
   "id": "e39d03be",
   "metadata": {},
   "outputs": [],
   "source": [
    "#Escreva o código aqui\n",
    "def data_genG(n, d1, d2, r, Gamma_mag):\n",
    "    # Montando as matrizes U, D e V\n",
    "    D = np.diag(np.full(r, Gamma_mag))\n",
    "    U = ortho_group.rvs(dim = d1)[:, :r]\n",
    "    V = ortho_group.rvs(dim = d2)[:, :r]\n",
    "    \n",
    "    # Calculando a matriz Gamma*\n",
    "    G = U @ D @ V.T\n",
    "\n",
    "    # Normalizando suas entradas\n",
    "    G = (G/np.max(np.abs(G))) * (Gamma_mag/np.sqrt(n))\n",
    "\n",
    "    return G"
   ]
  },
  {
   "cell_type": "code",
   "execution_count": 318,
   "id": "d2ae0a4d",
   "metadata": {},
   "outputs": [
    {
     "data": {
      "text/plain": [
       "((10, 10),\n",
       " 1.0,\n",
       " array([[ 0.46739682, -0.7484249 ,  0.01658461,  0.49979894,  0.29379528,\n",
       "          0.00639087, -0.12603606, -0.10561988, -0.09495997, -0.19746656],\n",
       "        [-0.3061543 ,  0.11656282,  0.27578148, -0.35287748,  0.00766082,\n",
       "         -0.40600557,  0.13112518, -0.13526166, -0.56628517,  0.11618674],\n",
       "        [-0.11586468,  0.66875425, -0.06852567, -0.31960849, -0.23641417,\n",
       "         -0.19348477,  0.38204259,  0.11620418,  0.26086293,  0.00797477],\n",
       "        [ 0.26373738,  0.31570487, -0.15578681, -0.0327604 , -0.02315332,\n",
       "         -0.44212263, -0.43540673, -0.04357416, -0.2036165 , -0.03818689],\n",
       "        [ 0.72836894,  0.56258468, -0.40047321,  0.11418571, -0.05713565,\n",
       "         -0.64163481, -0.43838308,  0.03321433,  0.13003615, -0.20113706],\n",
       "        [ 0.28656365, -0.23399201,  0.08515891,  0.32829984, -0.024496  ,\n",
       "         -0.61925799,  1.        , -0.01416282,  0.07940945, -0.62304057],\n",
       "        [-0.40607712,  0.18591675, -0.30008127,  0.29945508, -0.43323285,\n",
       "          0.33893111,  0.17227456,  0.23420153,  0.54888159, -0.43450451],\n",
       "        [-0.16851946, -0.10700739,  0.24656309, -0.17202409,  0.0801708 ,\n",
       "         -0.3514838 ,  0.0465993 , -0.15121483, -0.54909463,  0.04719346],\n",
       "        [ 0.69872828,  0.11418912,  0.22051882, -0.45807325,  0.4460049 ,\n",
       "          0.2082701 ,  0.58219695, -0.00169236,  0.46200797,  0.6656028 ],\n",
       "        [ 0.33670737, -0.09818268, -0.14454465,  0.13472674,  0.13050471,\n",
       "          0.27325164, -0.33845814,  0.03066349,  0.24003619,  0.13161664]]))"
      ]
     },
     "execution_count": 318,
     "metadata": {},
     "output_type": "execute_result"
    }
   ],
   "source": [
    "#Exemplo:\n",
    "n=100\n",
    "d_1=10\n",
    "d_2=10\n",
    "r=5\n",
    "Gamma_mag=10\n",
    "Gamma_true = data_genG(n,d_1,d_2,r,Gamma_mag)\n",
    "Gamma_true.shape, np.max(abs(Gamma_true)), Gamma_true, "
   ]
  },
  {
   "cell_type": "markdown",
   "id": "c9135e08",
   "metadata": {},
   "source": [
    "# Exercício 3: Gerando dados\n",
    "\n",
    "Construa uma função ``data_genS(d1,d2,s,S_mag)`` que toma $d_1$, $d_2$, esparsidade $s\\in[d_1d_2]$ e número positivo ``S_mag`` e retorna a matriz $d_1\\times d_2$ com $s$ entradas iguais a $S_{mag}$ e outras entradas iguais a zero. Escolha as entradas não-nulas aleatoriamente."
   ]
  },
  {
   "cell_type": "code",
   "execution_count": 319,
   "id": "8ce7e529",
   "metadata": {},
   "outputs": [],
   "source": [
    "#Escreva o código aqui\n",
    "def data_genS(d1, d2, s, S_mag):\n",
    "    # Sorteando as entradas não nulas\n",
    "    not_null_entries = np.random.choice(range(d1*d2), s)\n",
    "    # Inicializando a matriz S como um vetor nulo\n",
    "    S = np.zeros(d1*d2)\n",
    "    # Colocando as entradas não nulas no vetor\n",
    "    S[not_null_entries] = S_mag\n",
    "    # Redimensionando para a matriz desejada\n",
    "    S = S.reshape((d1, d2))\n",
    "    \n",
    "    return S"
   ]
  },
  {
   "cell_type": "code",
   "execution_count": 320,
   "id": "9dcea37b",
   "metadata": {},
   "outputs": [
    {
     "data": {
      "text/plain": [
       "array([[ 0.,  0.,  0.,  0.,  0.],\n",
       "       [10.,  0.,  0.,  0., 10.],\n",
       "       [10.,  0.,  0.,  0.,  0.],\n",
       "       [ 0.,  0., 10.,  0., 10.],\n",
       "       [ 0.,  0., 10.,  0.,  0.],\n",
       "       [10.,  0.,  0.,  0.,  0.],\n",
       "       [ 0.,  0.,  0.,  0.,  0.],\n",
       "       [ 0.,  0., 10.,  0.,  0.],\n",
       "       [ 0.,  0.,  0.,  0.,  0.],\n",
       "       [ 0.,  0.,  0.,  0.,  0.],\n",
       "       [10.,  0.,  0.,  0.,  0.],\n",
       "       [ 0.,  0.,  0.,  0.,  0.]])"
      ]
     },
     "execution_count": 320,
     "metadata": {},
     "output_type": "execute_result"
    }
   ],
   "source": [
    "#Exemplo:\n",
    "d_1=12\n",
    "d_2=5\n",
    "s=10\n",
    "S_mag=10\n",
    "S_true = data_genS(d_1,d_2,s,S_mag)\n",
    "S_true"
   ]
  },
  {
   "cell_type": "markdown",
   "id": "df297eab",
   "metadata": {},
   "source": [
    "# Exercício 4:\n",
    "\n",
    "Construa uma função ``data_genXe(n,d_1,d_2,Gamma_true,S_true,sd)`` que toma $n$, $d_1$, $d_2$, $\\Gamma^*$, $S^*$ e um número positivo ``sd`` e constrói os dados ``X``, uma lista de $n$ matrizes $X_i$ de dimensão $d_1\\times d_2$ independentes cujas entradas são iid normais padrão. A função também retorna o vetor ``y`` de dimensão $n$ cujas coordenadas satisfazem\n",
    "\n",
    "$$\n",
    "y_i = \\tr(X_i^\\top (\\Gamma^* + S^*)) + \\text{sd}\\cdot\\epsilon_i,\n",
    "$$\n",
    "onde $\\{\\epsilon_i\\}_{i=1}^n$ é uma sequência iid de normais padrão. "
   ]
  },
  {
   "cell_type": "code",
   "execution_count": 321,
   "id": "f0151c52",
   "metadata": {},
   "outputs": [],
   "source": [
    "#Escreva o código aqui\n",
    "def data_genXe(n, d_1, d_2, Gamma_true, S_true, sd):\n",
    "    X = []\n",
    "    y = np.zeros((n, 1))\n",
    "\n",
    "    for i in range(n):\n",
    "        Xi = np.random.standard_normal((d_1, d_2))\n",
    "        X.append(Xi)\n",
    "        ei = np.random.standard_normal(1)[0]\n",
    "        y[i] = np.trace(Xi.T @ (Gamma_true + S_true)) + sd * ei\n",
    "\n",
    "    return X, y"
   ]
  },
  {
   "cell_type": "code",
   "execution_count": 322,
   "id": "540010cc",
   "metadata": {},
   "outputs": [],
   "source": [
    "#Exemplo:\n",
    "d_1=40\n",
    "d_2=40\n",
    "r=5\n",
    "s=10\n",
    "Gamma_mag=10\n",
    "S_mag=10\n",
    "sd = 1\n",
    "n = 100\n",
    "\n",
    "Gamma_true = data_genG(n,d_1,d_2,r,Gamma_mag)\n",
    "S_true = data_genS(d_1,d_2,s,S_mag)\n",
    "B_true = Gamma_true + S_true\n",
    "X,y = data_genXe(n,d_1,d_2,Gamma_true,S_true,sd)"
   ]
  },
  {
   "cell_type": "code",
   "execution_count": 323,
   "id": "be88eeaa",
   "metadata": {},
   "outputs": [
    {
     "data": {
      "text/plain": [
       "(list, 100, (40, 40))"
      ]
     },
     "execution_count": 323,
     "metadata": {},
     "output_type": "execute_result"
    }
   ],
   "source": [
    "type(X), len(X), X[0].shape"
   ]
  },
  {
   "cell_type": "code",
   "execution_count": 324,
   "id": "c0558325",
   "metadata": {},
   "outputs": [
    {
     "data": {
      "text/plain": [
       "(numpy.ndarray, 100, (100, 1))"
      ]
     },
     "execution_count": 324,
     "metadata": {},
     "output_type": "execute_result"
    }
   ],
   "source": [
    "type(y), len(y), y.shape"
   ]
  },
  {
   "cell_type": "markdown",
   "id": "a24227da",
   "metadata": {},
   "source": [
    "# Exercício 5:\n",
    "\n",
    "Construa uma função `df(Gamma,S)` que retorna o gradiente $\\nabla f(\\Gamma, S)$."
   ]
  },
  {
   "cell_type": "code",
   "execution_count": 325,
   "id": "d8da47f7",
   "metadata": {},
   "outputs": [],
   "source": [
    "#Escreva o código aqui\n",
    "def df(Gamma, S):\n",
    "    grad = 0\n",
    "\n",
    "    for i in range(n):\n",
    "        grad -= (1/n) * (y[i] - np.trace(X[i].T @ (Gamma + S))) * X[i]\n",
    "\n",
    "    return grad"
   ]
  },
  {
   "cell_type": "code",
   "execution_count": 326,
   "id": "42038b0c",
   "metadata": {},
   "outputs": [
    {
     "data": {
      "text/plain": [
       "((40, 40),\n",
       " array([[-0.09045165,  0.01537033, -0.20656688, ...,  0.03253526,\n",
       "         -0.05749984,  0.22411701],\n",
       "        [-0.12962047, -0.02185736,  0.05869757, ..., -0.08366449,\n",
       "          0.1434359 ,  0.08266506],\n",
       "        [ 0.00906196,  0.03811228,  0.08795664, ...,  0.07187561,\n",
       "         -0.18125459,  0.04773489],\n",
       "        ...,\n",
       "        [-0.05616396,  0.00847562,  0.02146543, ..., -0.1289861 ,\n",
       "          0.03391772, -0.05277517],\n",
       "        [-0.04210326,  0.11820513, -0.22830856, ..., -0.03939489,\n",
       "         -0.08446889,  0.00219435],\n",
       "        [ 0.04012555, -0.19914927,  0.01522405, ...,  0.11237478,\n",
       "          0.00941274,  0.08324953]]))"
      ]
     },
     "execution_count": 326,
     "metadata": {},
     "output_type": "execute_result"
    }
   ],
   "source": [
    "df(Gamma_true,S_true).shape, df(Gamma_true,S_true)"
   ]
  },
  {
   "cell_type": "markdown",
   "id": "32600d8c",
   "metadata": {},
   "source": [
    "# Exercício 6: \n",
    "\n",
    "Vamos usar o método gradiente proximal com splitting para resolver o problema àcima:\n",
    "\n",
    "\\begin{align*}\n",
    "W_{\\Gamma,k+1} &:= \\Gamma_k - \\frac{1}{L}\\nabla f(\\Gamma_k,S_k),\\\\\n",
    "W_{S,k+1} &:= S_k - \\frac{1}{L}\\nabla f(\\Gamma_k,S_k),\\\\\n",
    "\\Gamma_{k+1} &:= P_N\\left(W_{\\Gamma, k+1},\\frac{\\lambda}{L},a\\right), \\\\\n",
    "S_{k+1} &:= P_1\\left(W_{S, k+1},\\frac{\\tau}{L}\\right).\n",
    "\\end{align*}\n",
    "\n",
    "Construa uma função ``trace_reg_MD(Df, n,d_1,d_2,X,y,L,lambd,tau,a, Gamma0,S0,t_final)`` onde `Df` é uma função que retorna o gradiente, $1/L$ é o passo, ``lambd`` ($=\\lambda$) e ``tau`` ($=\\tau$) são os fatores de penalização, ``Gamma0`` e ``S0`` são os pontos iniciais, e a variável ``t_final`` é o número de iterações. A função deve retornar a sequência $k\\mapsto\\Vert\\nabla f(\\Gamma_k,S_k)\\Vert_F^2$ e os últimos iterados $\\Gamma_{\\text{t_final}}$ e $S_{\\text{t_final}}$. Use hyper-parâmetros:\n",
    "\n",
    "\\begin{align*}\n",
    "a &= \\frac{\\Gamma_{mag}}{\\sqrt{n}},\\\\\n",
    "\\lambda &= \\text{sd}\\sqrt{\\frac{d_1+d_2}{n}},\\\\\n",
    "\\tau &= \\text{sd}\\sqrt{\\frac{\\log(d_1d_2)}{n}} + \\frac{\\Gamma_{mag}}{\\sqrt{n}}.\n",
    "\\end{align*}\n",
    "\n",
    "e passo $A/L$ ajustando $A\\ge1$ com\n",
    "$$\n",
    "L = A \\cdot \\lambda_{\\max}\\left(\n",
    "\\frac{1}{n}\\sum_{i=1}^n\\text{vec}(X_i)\\text{vec}^\\top(X_i)\n",
    "\\right),\n",
    "$$ \n",
    "onde $\\text{vec}(X_i)$ representa a matrix $d_1\\times d_2$ $X_i$ em forma vetorial de dimensão $d_1d_2$."
   ]
  },
  {
   "cell_type": "code",
   "execution_count": 327,
   "id": "4c99d930",
   "metadata": {},
   "outputs": [],
   "source": [
    "#Escreva o código aqui\n",
    "def trace_reg_MD(Df, n, d_1, d_2, X, y, L, lambd, tau, a, Gamma0, S0, t_final):\n",
    "    # Inicializando o histórico das normas do gradiente\n",
    "    grad_history = []\n",
    "    # Inicializando Gamma e S nos seus respectivos pontos iniciais\n",
    "    Gamma = Gamma0\n",
    "    S = S0\n",
    "\n",
    "    # Em cada iteração...\n",
    "    for _ in range(t_final):\n",
    "        # Calcula o gradiente\n",
    "        grad = Df(Gamma, S)\n",
    "\n",
    "        # Calcula sua norma e salva na lista\n",
    "        grad_norm = np.sum(grad ** 2)\n",
    "        grad_history.append(grad_norm)\n",
    "\n",
    "        # Atualiza os Ws\n",
    "        W_Gamma = Gamma - (1/L) * grad\n",
    "        W_S = S - (1/L) * grad\n",
    "\n",
    "        # Atualiza o Gamma\n",
    "        U, D, Vt = la.svd(W_Gamma)\n",
    "        Gamma = U @ np.diag(csoft(D, lambd/L, a)) @ Vt\n",
    "\n",
    "        # Atualiza o S\n",
    "        S = soft(W_S, tau/L)\n",
    "\n",
    "    return grad_history, Gamma, S"
   ]
  },
  {
   "cell_type": "code",
   "execution_count": 328,
   "id": "7d6182df",
   "metadata": {
    "scrolled": true
   },
   "outputs": [
    {
     "data": {
      "text/plain": [
       "[<matplotlib.lines.Line2D at 0x2429abaadd0>]"
      ]
     },
     "execution_count": 328,
     "metadata": {},
     "output_type": "execute_result"
    },
    {
     "data": {
      "image/png": "[encoded data removed]",
      "text/plain": [
       "<Figure size 640x480 with 1 Axes>"
      ]
     },
     "metadata": {},
     "output_type": "display_data"
    }
   ],
   "source": [
    "#Exemplo:\n",
    "Gamma0 = np.ones((d_1,d_2))\n",
    "S0 = np.ones((d_1,d_2))\n",
    "t_final = 100\n",
    "\n",
    "#Cálculo de L:\n",
    "aux = []\n",
    "for i in range(n):\n",
    "    xi = np.asarray(X[i])\n",
    "    aux.append(xi @ xi.T)\n",
    "L = 4*np.max(la.eigvalsh(sum(aux)/n))\n",
    "\n",
    "\n",
    "lambd = sd*np.sqrt((d_1+d_2)/n)\n",
    "a = Gamma_mag/np.sqrt(n)\n",
    "tau = sd*np.sqrt(np.log(d_1*d_2)/n) + Gamma_mag/np.sqrt(n)\n",
    "\n",
    "f1 = trace_reg_MD(df, n,d_1,d_2,X,y,L,lambd,tau,a,Gamma0,S0,t_final)\n",
    "plt.plot(f1[0])"
   ]
  },
  {
   "cell_type": "markdown",
   "id": "5e8ecd8c",
   "metadata": {},
   "source": [
    "# Exercício 7: \n",
    "\n",
    "O que acontece se $A$ for muito pequeno? "
   ]
  },
  {
   "cell_type": "markdown",
   "id": "394c96fd",
   "metadata": {},
   "source": [
    "**Resposta**: Se $A$ for muito pequeno, o passo do modelo será muito grande, fazendo com que ele não consiga realizar uma descida estável, ou seja, o gradiente pode não se aproximar continuamente de um ponto estacionário. Com isso, o modelo não é capaz de aprender adequadamente."
   ]
  },
  {
   "cell_type": "markdown",
   "id": "e1ac1c72",
   "metadata": {},
   "source": [
    "# Exercício 8: \n",
    "\n",
    "Agora, vamos usar o método gradiente proximal com splitting *acelerado*: iniciando de `[Gamma0,S0]=[Zg0,Zs0]` e $t_0=1$:\n",
    "\n",
    "\\begin{align*}\n",
    "Z_{\\Gamma, k+1}&:= P_N\\left(\n",
    "\\Gamma_k - (1/L)\\nabla f(\\Gamma_k,S_k), \\frac{\\lambda}{L}, a\n",
    "\\right),\\\\\n",
    "Z_{S, k+1}&:= P_1\\left(\n",
    "S_k - (1/L)\\nabla f(\\Gamma_k,S_k), \\frac{\\tau}{L}\n",
    "\\right),\\\\\n",
    "t_{k+1} &:= \\frac{1+\\sqrt{1+4t_k^2}}{2},\\\\\n",
    "\\Gamma_{k+1} &:= Z_{\\Gamma, k+1} + \\frac{t_{k}-1}{t_{k+1}}(Z_{\\Gamma, k+1} - Z_{\\Gamma, k}),\\\\\n",
    "S_{k+1} &:= Z_{S, k+1} + \\frac{t_{k}-1}{t_{k+1}}(Z_{S, k+1} - Z_{S, k}).\n",
    "\\end{align*}\n",
    "\n",
    "Construa uma função ``trace_reg_MD_acc(Df, n,d_1,d_2,X,y,L,lambd,tau,a,Gamma0,S0,t_final)`` onde `Df` é uma função que retorna o gradiente, $1/L$ é o passo, ``lambd`` ($=\\lambda$) e ``tau`` ($=\\tau$) são os fatores de penalização, ``Gamma0`` e ``S0`` são os pontos iniciais, e a variável ``t_final`` é o número de iterações. A função deve retornar a sequência $k\\mapsto\\Vert\\nabla f(\\Gamma_k,S_k)\\Vert_F^2$ e os últimos iterados $\\Gamma_{\\text{t_final}}$ e $S_{\\text{t_final}}$. Use hyper-parâmetros:\n",
    "\n",
    "\\begin{align*}\n",
    "a &= \\frac{\\Gamma_{mag}}{\\sqrt{n}},\\\\\n",
    "\\lambda &= \\text{sd}\\sqrt{\\frac{d_1+d_2}{n}},\\\\\n",
    "\\tau &= \\text{sd}\\sqrt{\\frac{\\log(d_1d_2)}{n}} + \\frac{\\Gamma_{mag}}{\\sqrt{n}}.\n",
    "\\end{align*}\n",
    "\n",
    "e passo $A/L$ ajustando $A\\ge1$ com\n",
    "$$\n",
    "L = A \\cdot \\lambda_{\\max}\\left(\n",
    "\\frac{1}{n}\\sum_{i=1}^n\\text{vec}(X_i)\\text{vec}^\\top(X_i)\n",
    "\\right).\n",
    "$$  "
   ]
  },
  {
   "cell_type": "code",
   "execution_count": 329,
   "id": "fe0733bb",
   "metadata": {},
   "outputs": [],
   "source": [
    "#Escreva o código aqui\n",
    "def trace_reg_MD_acc(Df, n, d_1, d_2, X, y, L, lambd, tau, a, Gamma0, S0, t_final):\n",
    "    # Inicializando o histórico das normas do gradiente\n",
    "    grad_history = []\n",
    "    # Inicializando as variáveis\n",
    "    Gamma = Gamma0\n",
    "    S = S0\n",
    "    Z_Gamma0 = Gamma0\n",
    "    Z_Gamma1 = Z_Gamma0\n",
    "    Z_S0 = S0\n",
    "    Z_S1 = Z_S0\n",
    "    t0 = 1\n",
    "    t1 = t0\n",
    "\n",
    "    # Em cada iteração...\n",
    "    for _ in range(t_final):\n",
    "        # Calcula o gradiente\n",
    "        grad = Df(Gamma, S)\n",
    "\n",
    "        # Calcula sua norma e salva na lista\n",
    "        grad_norm = np.sum(grad ** 2)\n",
    "        grad_history.append(grad_norm)\n",
    "        \n",
    "        # Avança e atualiza o Z_Gamma\n",
    "        Z_Gamma0 = Z_Gamma1\n",
    "        U, D, Vt = la.svd(Gamma - (1/L) * grad)\n",
    "        Z_Gamma1 = U @ np.diag(csoft(D, lambd/L, a)) @ Vt\n",
    "\n",
    "        # Avança e atualiza o Z_S\n",
    "        Z_S0 = Z_S1\n",
    "        Z_S1 = soft(S - (1/L) * grad, tau/L)\n",
    "\n",
    "        # Avança e atualiza o t\n",
    "        t0 = t1\n",
    "        t1 = (1 + np.sqrt(1 + 4 * (t0 ** 2)))/2\n",
    "\n",
    "        # Atualiza o Gamma\n",
    "        Gamma = Z_Gamma1 + ((t0 - 1)/t1) * (Z_Gamma1 - Z_Gamma0)\n",
    "\n",
    "        # Atualiza o S\n",
    "        S = Z_S1 + ((t0 - 1)/t1) * (Z_S1 - Z_S0)\n",
    "\n",
    "    return grad_history, Gamma, S"
   ]
  },
  {
   "cell_type": "code",
   "execution_count": 330,
   "id": "a4f747d9",
   "metadata": {},
   "outputs": [],
   "source": [
    "def P_N(W, lambd, a):\n",
    "    \"\"\"\n",
    "    Proximal operator para a norma nuclear com restrição de norma infinita.\n",
    "\n",
    "    Parâmetros:\n",
    "    - W: Matriz de entrada.\n",
    "    - lambd: Parâmetro de penalização para a norma nuclear.\n",
    "    - a: Restrição para a norma infinita.\n",
    "\n",
    "    Retorna:\n",
    "    - Matriz proximalizada.\n",
    "    \"\"\"\n",
    "    U, S, Vt = np.linalg.svd(W, full_matrices=False)\n",
    "    S_thresholded = csoft(S, lambd, a)\n",
    "    return U @ np.diag(S_thresholded) @ Vt\n",
    "\n",
    "def P_1(W, tau):\n",
    "    \"\"\"\n",
    "    Proximal operator para a norma L1.\n",
    "\n",
    "    Parâmetros:\n",
    "    - W: Matriz de entrada.\n",
    "    - tau: Parâmetro de penalização para a norma L1.\n",
    "\n",
    "    Retorna:\n",
    "    - Matriz proximalizada.\n",
    "    \"\"\"\n",
    "    return soft(W, tau)\n",
    "\n",
    "def trace_reg_MD_acc(Df, n, d_1, d_2, X, y, L, lambd, tau, a, Gamma0, S0, t_final):\n",
    "    \"\"\"\n",
    "    Implementação do método de gradiente proximal acelerado com splitting para decomposição aditiva de matrizes.\n",
    "\n",
    "    Parâmetros:\n",
    "    - Df: Função que retorna o gradiente (função de duas variáveis).\n",
    "    - n: Número de amostras.\n",
    "    - d1, d2: Dimensões das matrizes.\n",
    "    - X: Lista ou array de matrizes de entrada (shape: [n, d1, d2]).\n",
    "    - y: Vetor de respostas (shape: [n]).\n",
    "    - A: Fator para ajustar o passo L (A >= 1).\n",
    "    - Gamma0: Matriz inicial para Gamma (shape: [d1, d2]).\n",
    "    - S0: Matriz inicial para S (shape: [d1, d2]).\n",
    "    - t_final: Número de iterações.\n",
    "\n",
    "    Retorna:\n",
    "    - grad_norms: Lista com a sequência de normas ao quadrado do gradiente para cada iteração.\n",
    "    - Gamma_k: Matriz Gamma no último iterado.\n",
    "    - S_k: Matriz S no último iterado.\n",
    "    \"\"\"\n",
    "    # Inicialização das variáveis\n",
    "    Gamma_k, S_k = Gamma0.copy(), S0.copy()\n",
    "    Z_Gamma_k, Z_S_k = Gamma0.copy(), S0.copy()\n",
    "    t_k = 1\n",
    "    grad_norms = []\n",
    "\n",
    "    for k in range(t_final):\n",
    "        # Cálculo do gradiente\n",
    "        grad_Gamma = Df(Gamma_k, S_k)\n",
    "        grad_norm = np.linalg.norm(grad_Gamma, 'fro')**2 + np.linalg.norm(grad_Gamma, 'fro')**2\n",
    "        grad_norms.append(grad_norm)\n",
    "\n",
    "        # Atualizações de Z utilizando os operadores proximais\n",
    "        Z_Gamma_k1 = P_N(Gamma_k - (1 / L) * grad_Gamma, lambd / L, a)\n",
    "        Z_S_k1 = P_1(S_k - (1 / L) * grad_Gamma, tau / L)\n",
    "\n",
    "        # Atualização de t\n",
    "        t_k1 = (1 + np.sqrt(1 + 4 * t_k**2)) / 2\n",
    "\n",
    "        # Atualizações de Gamma e S com aceleração\n",
    "        Gamma_k_new = Z_Gamma_k1 + ((t_k - 1) / t_k1) * (Z_Gamma_k1 - Z_Gamma_k)\n",
    "        S_k_new = Z_S_k1 + ((t_k - 1) / t_k1) * (Z_S_k1 - Z_S_k)\n",
    "\n",
    "        # Preparação para a próxima iteração\n",
    "        Z_Gamma_k, Z_S_k = Z_Gamma_k1, Z_S_k1\n",
    "        Gamma_k, S_k = Gamma_k_new, S_k_new\n",
    "        t_k = t_k1\n",
    "\n",
    "    return grad_norms, Gamma_k, S_k"
   ]
  },
  {
   "cell_type": "code",
   "execution_count": 331,
   "id": "5e3f59a5",
   "metadata": {},
   "outputs": [
    {
     "data": {
      "text/plain": [
       "[<matplotlib.lines.Line2D at 0x2429abdb0a0>]"
      ]
     },
     "execution_count": 331,
     "metadata": {},
     "output_type": "execute_result"
    },
    {
     "data": {
      "image/png": "[encoded data removed]",
      "text/plain": [
       "<Figure size 640x480 with 1 Axes>"
      ]
     },
     "metadata": {},
     "output_type": "display_data"
    }
   ],
   "source": [
    "Gamma0 = np.ones((d_1,d_2))\n",
    "S0 = np.ones((d_1,d_2))\n",
    "t_final = 100\n",
    "\n",
    "#Cálculo de L:\n",
    "aux = []\n",
    "for i in range(n):\n",
    "    xi = np.asarray(X[i])\n",
    "    aux.append(xi @ xi.T)\n",
    "L = 4*np.max(la.eigvalsh(sum(aux)/n))\n",
    "\n",
    "lambd = sd*np.sqrt((d_1+d_2)/n)\n",
    "a = Gamma_mag/np.sqrt(n)\n",
    "tau = sd*np.sqrt(np.log(d_1*d_2)/n) + Gamma_mag/np.sqrt(n)\n",
    "\n",
    "f2 = trace_reg_MD_acc(df, n,d_1,d_2,X,y,L,lambd,tau,a,Gamma0,S0,t_final)\n",
    "plt.plot(f2[0])"
   ]
  },
  {
   "cell_type": "markdown",
   "id": "3a99d8bb",
   "metadata": {},
   "source": [
    "# Exercício 9: \n",
    "\n",
    "Implemente num mesmo gráfico os erros $k\\mapsto\\Vert\\nabla f(\\Gamma_k,S_k)\\Vert_F^2$ de cada método em função no número de iterações."
   ]
  },
  {
   "cell_type": "code",
   "execution_count": 332,
   "id": "e90d77b6",
   "metadata": {},
   "outputs": [
    {
     "data": {
      "text/plain": [
       "[]"
      ]
     },
     "execution_count": 332,
     "metadata": {},
     "output_type": "execute_result"
    },
    {
     "data": {
      "image/png": "[encoded data removed]",
      "text/plain": [
       "<Figure size 640x480 with 1 Axes>"
      ]
     },
     "metadata": {},
     "output_type": "display_data"
    }
   ],
   "source": [
    "#Escreva o código aqui\n",
    "plt.plot(f1[0], label = \"ProxGrad-Split\")\n",
    "plt.plot(f2[0], label = \"Nesterov-ProxGrad-Split\", marker = \"o\", markevery = 5)\n",
    "plt.xlabel(\"Iteration\")\n",
    "plt.ylabel(r\"$\\|\\nabla f(\\Gamma_k, S_k)\\|_F^2$\")\n",
    "plt.yscale(\"log\")\n",
    "plt.grid(True)\n",
    "plt.tick_params(axis = \"y\", which = \"both\", length = 0)\n",
    "plt.legend()\n",
    "plt.plot()"
   ]
  },
  {
   "cell_type": "markdown",
   "id": "162acb1f",
   "metadata": {},
   "source": [
    "# PCA robusta\n",
    "\n",
    "O modelo anterior é *supervisionado*. Em *visão computacional*, um modelo relacionando mas não-supervisionado consiste em estimar cada uma das componentes $[\\Gamma^*,S^*]$ tendo apenas uma medição ruidosa da soma $B^*=\\Gamma^*+S^*$, por exemplo, ao separar de uma foto um carro (image esparsa) do ambiente (imagem de posto pequeno):\n",
    "\n",
    "![](Robust-PCA.png)\n",
    "\n",
    "Neste caso, resolvemos:\n",
    "\n",
    "\\begin{equation*}\n",
    "\\begin{aligned}\n",
    "& \\underset{[\\Gamma,S]\\in(\\mathbb{R}^{d_1\\times d_2})^2}{\\text{minimize}}\n",
    "& & F(\\Gamma,S) + \\lambda\\Vert \\Gamma\\Vert_N + \\tau\\Vert S\\Vert_1, \\\\\n",
    "& \\text{sujeito à}\n",
    "& & \\Vert\\Gamma\\Vert_\\infty\\le a, \n",
    "\\end{aligned}\n",
    "\\end{equation*}\n",
    "\n",
    "onde \n",
    "\n",
    "$$\n",
    "F(\\Gamma,S) = \\frac{1}{2}\\Vert Y - (\\Gamma+S)\\Vert_F^2, \n",
    "$$\n",
    "\n",
    "$Y$ é uma matriz de dados em $\\mathbb{R}\\times\\mathbb{R}^{d_1\\times d_2}$, por exemplo, uma imagem ruidosa. Aplicações incluem *vigilância por vídeos*, *reconhecimento facial*, *topic modelling* (incluindo *latent semantic analysis* e *sentiment analysis*) e *recomendação de sistemas* sujeito a dados corruptos. Veja e.g. [Robust PCA?](https://arxiv.org/abs/0912.3599) e [Video](https://www.youtube.com/watch?v=yDpz0PqULXQ)."
   ]
  },
  {
   "cell_type": "markdown",
   "id": "acf4c5d3",
   "metadata": {},
   "source": [
    "# Exercício 10:\n",
    "\n",
    "Construa uma função ``data_genYe(n,d_1,d_2,B_true,sd)`` que toma $n$, $d_1$, $d_2$, $B^*$, e um número positivo ``sd`` e constrói a matriz de dados ``Y`` tal que\n",
    "\n",
    "$$\n",
    "Y = B^* + \\text{sd}\\cdot\\Xi,\n",
    "$$\n",
    "\n",
    "onde $\\Xi$ é uma matriz $d_1\\times d_2$ cujas entradas são iid $N(0,1)$. NOTA: Iremos usar as mesmas funções anteriores para gerar $\\Gamma^*$ e $S^*$."
   ]
  },
  {
   "cell_type": "code",
   "execution_count": 137,
   "id": "3dc2a4ee",
   "metadata": {},
   "outputs": [],
   "source": [
    "#Escreva o código aqui\n",
    "def data_genYe(n, d_1, d_2, B_true, sd):\n",
    "    # Gerando Xi\n",
    "    Xi = np.random.standard_normal((d_1, d_2))\n",
    "    # Calculando Y\n",
    "    Y = B_true + sd * Xi\n",
    "\n",
    "    return Y"
   ]
  },
  {
   "cell_type": "code",
   "execution_count": 138,
   "id": "b07e89c2",
   "metadata": {},
   "outputs": [],
   "source": [
    "#Exemplo:\n",
    "d_1=40\n",
    "d_2=40\n",
    "r=5\n",
    "s=10\n",
    "Gamma_mag=10\n",
    "S_mag=10\n",
    "sd = .1\n",
    "n = 100\n",
    "\n",
    "Gamma_true = data_genG(n,d_1,d_2,r,Gamma_mag)\n",
    "S_true = data_genS(d_1,d_2,s,S_mag)\n",
    "B_true = Gamma_true + S_true\n",
    "Y = data_genYe(n,d_1,d_2,B_true,sd)"
   ]
  },
  {
   "cell_type": "code",
   "execution_count": 139,
   "id": "70e6e294",
   "metadata": {},
   "outputs": [
    {
     "data": {
      "text/plain": [
       "((40, 40),\n",
       " array([[-1.18174681e-01,  5.50461599e-02,  1.02851663e-01, ...,\n",
       "         -2.47054213e-01, -3.76119961e-01,  1.01785997e+01],\n",
       "        [-2.92457060e-01,  1.02456141e-01,  1.29456659e-01, ...,\n",
       "          3.54160260e-02,  2.08859060e-01,  2.40896113e-01],\n",
       "        [ 8.11850944e-02,  6.14844025e-02,  3.22912178e-01, ...,\n",
       "         -3.70849248e-02, -1.08972064e-01,  4.00903794e-02],\n",
       "        ...,\n",
       "        [ 3.23960255e-01, -2.92306088e-01, -2.33497344e-01, ...,\n",
       "          8.52360521e-02, -1.89982350e-01, -2.62321598e-01],\n",
       "        [-3.05394943e-01,  1.59428870e-01,  3.16988828e-01, ...,\n",
       "         -2.04629646e-01, -1.87439592e-01,  3.41766990e-01],\n",
       "        [ 1.73165959e-02, -1.72868933e-01, -1.64293875e-01, ...,\n",
       "         -4.51415408e-03,  4.81620262e-02, -4.26326398e-02]]))"
      ]
     },
     "execution_count": 139,
     "metadata": {},
     "output_type": "execute_result"
    }
   ],
   "source": [
    "Y.shape, Y"
   ]
  },
  {
   "cell_type": "markdown",
   "id": "58b3f864",
   "metadata": {},
   "source": [
    "# Exercício 11:\n",
    "\n",
    "Construa uma função `dF(Gamma,S)` que retorna o gradiente $\\nabla F(\\Gamma,S)$."
   ]
  },
  {
   "cell_type": "code",
   "execution_count": 140,
   "id": "18d48f40",
   "metadata": {},
   "outputs": [],
   "source": [
    "#Escreva o código aqui\n",
    "def dF(Gamma, S):\n",
    "    return -(Y - (Gamma + S))"
   ]
  },
  {
   "cell_type": "markdown",
   "id": "f3ec9dad",
   "metadata": {},
   "source": [
    "# Exercício 12: \n",
    "\n",
    "Vamos usar o método gradiente proximal com splitting para resolver o problema àcima. Ele tem exatamente a mesma expressão do Exercício 6 mas usando $\\nabla F(\\Gamma,S)$. Implemente o algoritmo com\n",
    "\n",
    "\\begin{align*}\n",
    "a &= \\frac{\\Gamma_{mag}}{\\sqrt{n}},\\\\\n",
    "\\lambda &= \\text{sd}\\sqrt{\\frac{d_1+d_2}{n}},\\\\\n",
    "\\tau &= \\text{sd}\\sqrt{\\frac{\\log(d_1d_2)}{n}} + \\frac{\\Gamma_{mag}}{\\sqrt{n}}.\n",
    "\\end{align*}\n",
    "\n",
    "e passo $1/L$. PERGUNTA: Exiba um limite aproximado em que para $L$ os métodos convergem e para um $L$ próximo os métodos não convergem. \n",
    "\n",
    "Em seguida, implemente o método gradiente proximal com splitting acelerado: é o mesmo que o exercício 8 mas usando $\\nabla F(\\Gamma,S)$.\n",
    "\n",
    "Finalmente, plote num mesmo gráfico a sequência de erros $\\Vert\\nabla f(\\Gamma_k,S_k)\\Vert_F^2$ para os dois métodos."
   ]
  },
  {
   "cell_type": "code",
   "execution_count": 141,
   "id": "c6b1bfc1",
   "metadata": {},
   "outputs": [],
   "source": [
    "# Setando os hiperparâmetros\n",
    "a = Gamma_mag/np.sqrt(n)\n",
    "lambd = sd * np.sqrt((d_1 + d_2)/n)\n",
    "tau = sd * np.sqrt(np.log(d_1 * d_2)/n) + Gamma_mag/np.sqrt(n)"
   ]
  },
  {
   "cell_type": "code",
   "execution_count": 142,
   "id": "77681a5b",
   "metadata": {},
   "outputs": [],
   "source": [
    "# Otimizando o valor do L para o método normal\n",
    "best_L = L\n",
    "best_error = np.infty\n",
    "Ls = []\n",
    "Ls_errors = []\n",
    "\n",
    "for i in range(1, 500):\n",
    "    g1 = trace_reg_MD(dF, n, d_1, d_2, X, Y, L/i, lambd, tau, a, Gamma0, S0, t_final)\n",
    "    Ls.append(L/i)\n",
    "    Ls_errors.append(g1[0][-1])\n",
    "    if g1[0][-1] < best_error:\n",
    "        best_error = g1[0][-1]\n",
    "        best_L = L/i"
   ]
  },
  {
   "cell_type": "code",
   "execution_count": 143,
   "id": "7a97fa8d",
   "metadata": {},
   "outputs": [
    {
     "name": "stdout",
     "output_type": "stream",
     "text": [
      "Best L:  0.7672830561300232\n"
     ]
    },
    {
     "data": {
      "text/plain": [
       "[]"
      ]
     },
     "execution_count": 143,
     "metadata": {},
     "output_type": "execute_result"
    },
    {
     "data": {
      "image/png": "[encoded data removed]",
      "text/plain": [
       "<Figure size 640x480 with 1 Axes>"
      ]
     },
     "metadata": {},
     "output_type": "display_data"
    }
   ],
   "source": [
    "print(\"Best L: \", best_L)\n",
    "\n",
    "plt.plot(Ls, Ls_errors)\n",
    "plt.xscale(\"log\")\n",
    "plt.xlabel(\"L\")\n",
    "plt.ylabel(\"Final error\")\n",
    "plt.plot()"
   ]
  },
  {
   "cell_type": "code",
   "execution_count": 144,
   "id": "8d9157dc",
   "metadata": {},
   "outputs": [
    {
     "data": {
      "text/plain": [
       "[<matplotlib.lines.Line2D at 0x242992a08e0>]"
      ]
     },
     "execution_count": 144,
     "metadata": {},
     "output_type": "execute_result"
    },
    {
     "data": {
      "image/png": "[encoded data removed]",
      "text/plain": [
       "<Figure size 640x480 with 1 Axes>"
      ]
     },
     "metadata": {},
     "output_type": "display_data"
    }
   ],
   "source": [
    "g1 = trace_reg_MD(dF, n, d_1, d_2, X, Y, L, lambd, tau, a, Gamma0, S0, t_final)\n",
    "plt.plot(g1[0])"
   ]
  },
  {
   "cell_type": "code",
   "execution_count": 145,
   "id": "1bbf186a",
   "metadata": {},
   "outputs": [],
   "source": [
    "# Otimizando o valor do L para o método acelerado\n",
    "best_L = 0\n",
    "best_error = np.infty\n",
    "Ls = []\n",
    "Ls_errors = []\n",
    "\n",
    "for i in range(1, 250):\n",
    "    g2 = trace_reg_MD_acc(dF, n, d_1, d_2, X, Y, L/i, lambd, tau, a, Gamma0, S0, t_final)\n",
    "    Ls.append(L/i)\n",
    "    Ls_errors.append(g2[0][-1])\n",
    "    if g2[0][-1] < best_error:\n",
    "        best_error = g2[0][-1]\n",
    "        best_L = L/i"
   ]
  },
  {
   "cell_type": "code",
   "execution_count": 146,
   "id": "42513150",
   "metadata": {},
   "outputs": [
    {
     "name": "stdout",
     "output_type": "stream",
     "text": [
      "Best L:  62.9172106026619\n"
     ]
    },
    {
     "data": {
      "text/plain": [
       "[]"
      ]
     },
     "execution_count": 146,
     "metadata": {},
     "output_type": "execute_result"
    },
    {
     "data": {
      "image/png": "[encoded data removed]",
      "text/plain": [
       "<Figure size 640x480 with 1 Axes>"
      ]
     },
     "metadata": {},
     "output_type": "display_data"
    }
   ],
   "source": [
    "print(\"Best L: \", best_L)\n",
    "\n",
    "plt.plot(Ls, Ls_errors)\n",
    "plt.xscale(\"log\")\n",
    "plt.xlabel(\"L\")\n",
    "plt.ylabel(\"Final error\")\n",
    "plt.plot()"
   ]
  },
  {
   "cell_type": "code",
   "execution_count": 147,
   "id": "1cf44c6c",
   "metadata": {},
   "outputs": [
    {
     "data": {
      "text/plain": [
       "[<matplotlib.lines.Line2D at 0x24297d6fb50>]"
      ]
     },
     "execution_count": 147,
     "metadata": {},
     "output_type": "execute_result"
    },
    {
     "data": {
      "image/png": "[encoded data removed]",
      "text/plain": [
       "<Figure size 640x480 with 1 Axes>"
      ]
     },
     "metadata": {},
     "output_type": "display_data"
    }
   ],
   "source": [
    "g2 = trace_reg_MD_acc(dF, n, d_1, d_2, X, Y, L, lambd, tau, a, Gamma0, S0, t_final)\n",
    "plt.plot(g2[0])"
   ]
  },
  {
   "cell_type": "code",
   "execution_count": 148,
   "id": "cf052c4b",
   "metadata": {},
   "outputs": [
    {
     "data": {
      "text/plain": [
       "[]"
      ]
     },
     "execution_count": 148,
     "metadata": {},
     "output_type": "execute_result"
    },
    {
     "data": {
      "image/png": "[encoded data removed]",
      "text/plain": [
       "<Figure size 640x480 with 1 Axes>"
      ]
     },
     "metadata": {},
     "output_type": "display_data"
    }
   ],
   "source": [
    "plt.plot(g1[0], label = \"ProxGrad-Split\")\n",
    "plt.plot(g2[0], label = \"Nesterov-ProxGrad-Split\", marker = \"o\", markevery = 5)\n",
    "plt.xlabel(\"Iteration\")\n",
    "plt.ylabel(r\"$\\|\\nabla f(\\Gamma_k, S_k)\\|_F^2$\")\n",
    "plt.yscale(\"log\")\n",
    "plt.grid(True)\n",
    "plt.tick_params(axis = \"y\", which = \"both\", length = 0)\n",
    "plt.legend()\n",
    "plt.plot()"
   ]
  }
 ],
 "metadata": {
  "jupytext": {
   "cell_metadata_filter": "tags,name,-all",
   "main_language": "python",
   "notebook_metadata_filter": "-all"
  },
  "kernelspec": {
   "display_name": "Python 3",
   "language": "python",
   "name": "python3"
  },
  "language_info": {
   "codemirror_mode": {
    "name": "ipython",
    "version": 3
   },
   "file_extension": ".py",
   "mimetype": "text/x-python",
   "name": "python",
   "nbconvert_exporter": "python",
   "pygments_lexer": "ipython3",
   "version": "3.10.10"
  }
 },
 "nbformat": 4,
 "nbformat_minor": 5
}
